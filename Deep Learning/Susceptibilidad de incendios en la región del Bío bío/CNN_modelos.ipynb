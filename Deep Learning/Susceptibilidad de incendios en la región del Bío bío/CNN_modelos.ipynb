{
  "nbformat": 4,
  "nbformat_minor": 0,
  "metadata": {
    "colab": {
      "name": "Certamen_1_GB_PJ.ipynb",
      "provenance": [],
      "collapsed_sections": [],
      "toc_visible": true
    },
    "kernelspec": {
      "name": "python3",
      "display_name": "Python 3"
    },
    "language_info": {
      "name": "python"
    }
  },
  "cells": [
    {
      "cell_type": "code",
      "metadata": {
        "colab": {
          "base_uri": "https://localhost:8080/"
        },
        "id": "xxCw0x0uM9iI",
        "outputId": "d16aa684-c405-4fbe-8bb6-2ccad3eb2d81"
      },
      "source": [
        "from google.colab import drive\n",
        "drive.mount('/content/drive')"
      ],
      "execution_count": null,
      "outputs": [
        {
          "output_type": "stream",
          "text": [
            "Mounted at /content/drive\n"
          ],
          "name": "stdout"
        }
      ]
    },
    {
      "cell_type": "code",
      "metadata": {
        "id": "v-r1ucu2HFcN"
      },
      "source": [
        "# Importamos las funciones del archivo sample_extraction\n",
        "#'/proximity vars/DistanceToUA.sdat'\n",
        "path = '/content/drive/MyDrive/Certamen/Normalized' #./Normalized'\n",
        "DATA_DIR = path\n",
        "NDV = -99999 # No data value"
      ],
      "execution_count": null,
      "outputs": []
    },
    {
      "cell_type": "markdown",
      "metadata": {
        "id": "Hb7uVGzNGlsb"
      },
      "source": [
        "#Librerías y funciones"
      ]
    },
    {
      "cell_type": "code",
      "metadata": {
        "id": "95AqPorgHgub"
      },
      "source": [
        "import gdal\n",
        "import numpy as np\n",
        "import pandas as pd\n",
        "import random\n",
        "from osgeo import gdal_array\n",
        "from sklearn.feature_extraction import image\n",
        "import itertools, random\n",
        "import matplotlib.pyplot as plt\n",
        "import tensorflow as tf\n",
        "from sklearn.metrics import confusion_matrix, plot_confusion_matrix, f1_score,precision_score, recall_score\n",
        "import seaborn as sns\n",
        "from tensorflow import keras\n",
        "from keras.layers.core import Dropout\n",
        "from keras.regularizers import L1L2\n",
        "from keras.layers import BatchNormalization\n",
        "from sklearn.model_selection import train_test_split\n",
        "import sklearn\n",
        "from sklearn.model_selection import KFold\n",
        "import keras.backend as K\n",
        "\n"
      ],
      "execution_count": null,
      "outputs": []
    },
    {
      "cell_type": "code",
      "metadata": {
        "colab": {
          "base_uri": "https://localhost:8080/"
        },
        "id": "cxTpO4J5HYKW",
        "outputId": "a334acdf-94c2-4ec6-e328-320b0ec9623a"
      },
      "source": [
        "!pip install -q -U keras-tuner\n",
        "import keras_tuner as kt"
      ],
      "execution_count": null,
      "outputs": [
        {
          "output_type": "stream",
          "text": [
            "\u001b[?25l\r\u001b[K     |███▍                            | 10kB 17.5MB/s eta 0:00:01\r\u001b[K     |██████▉                         | 20kB 21.7MB/s eta 0:00:01\r\u001b[K     |██████████▏                     | 30kB 11.5MB/s eta 0:00:01\r\u001b[K     |█████████████▋                  | 40kB 8.8MB/s eta 0:00:01\r\u001b[K     |█████████████████               | 51kB 5.3MB/s eta 0:00:01\r\u001b[K     |████████████████████▍           | 61kB 5.6MB/s eta 0:00:01\r\u001b[K     |███████████████████████▊        | 71kB 6.2MB/s eta 0:00:01\r\u001b[K     |███████████████████████████▏    | 81kB 6.0MB/s eta 0:00:01\r\u001b[K     |██████████████████████████████▋ | 92kB 6.1MB/s eta 0:00:01\r\u001b[K     |████████████████████████████████| 102kB 4.4MB/s \n",
            "\u001b[?25h  Building wheel for kt-legacy (setup.py) ... \u001b[?25l\u001b[?25hdone\n"
          ],
          "name": "stdout"
        }
      ]
    },
    {
      "cell_type": "code",
      "metadata": {
        "id": "ckLhDwXLHCpA"
      },
      "source": [
        "def lr_schedule(l_r):\n",
        "  return tf.keras.optimizers.schedules.InverseTimeDecay(l_r, decay_steps=1*10, decay_rate=1)\n",
        "def SGD(lr_schedulee):\n",
        "  return tf.keras.optimizers.SGD(lr_schedulee)\n",
        "def Adam1(lr_schedulee):\n",
        "  return tf.keras.optimizers.Adam(lr_schedulee)\n"
      ],
      "execution_count": null,
      "outputs": []
    },
    {
      "cell_type": "code",
      "metadata": {
        "id": "WaiGJ2Xa4Bej"
      },
      "source": [
        "seed_value = 0\n",
        "import random\n",
        "random.seed(seed_value)"
      ],
      "execution_count": null,
      "outputs": []
    },
    {
      "cell_type": "code",
      "metadata": {
        "id": "MUNCFxG_LGyG"
      },
      "source": [
        "def load_variables(year, month):\n",
        "    # Mapa base para proyeccion y bounding box al pasar de .npy a .tif\n",
        "    raster_base = gdal.Open(DATA_DIR + '/proximity vars/DistanceToUA.sdat')\n",
        "\n",
        "    # VARIABLES\n",
        "    # ----------\n",
        "    #7 variables climáticas\n",
        "    CLIMATIC_DIR = DATA_DIR + \"/climatic vars/\" \n",
        "    load_climatic = lambda ext:  gdal_array.LoadFile('{}{}{}{}'.format(CLIMATIC_DIR, year, month, ext))\n",
        "\n",
        "    tmax = load_climatic(\"tx.tif\")                                                                #1\n",
        "    tmin = load_climatic(\"tn.tif\")                                                                #2\n",
        "    windspeed = load_climatic(\"ws.tif\")                                                           #3\n",
        "    prec = load_climatic(\"rn.tif\")                                                                #4\n",
        "    aet = load_climatic(\"aet.tif\")                                                                #5\n",
        "    cwd = load_climatic(\"cwd.tif\")                                                                #6\n",
        "    ndvi = load_climatic(\"NDVI.tif\")                                                              #7 +++\n",
        "\n",
        "    #4 variables topograficas\n",
        "    TOPOGRAPHIC_DIR = DATA_DIR + \"/_normalized topographic/\"                                      \n",
        "    load_topographic = lambda f:  gdal_array.LoadFile('{}{}'.format(TOPOGRAPHIC_DIR, f))          \n",
        "\n",
        "    aspect = load_topographic('Aspect.sdat')                                                      #8 +++\n",
        "    slope = load_topographic('Slope.sdat')                                                        #9 +++\n",
        "    elev = load_topographic('Elevation.sdat')                                                     #10 +++\n",
        "    surface = load_topographic('SurfaceRoughness.sdat')                                           #11\n",
        "\n",
        "    #3 variables de proximidad\n",
        "    PROXIMITY_DIR = DATA_DIR + \"/proximity vars/\"\n",
        "    load_proximity = lambda f:  gdal_array.LoadFile('{}{}'.format(PROXIMITY_DIR, f))\n",
        "\n",
        "    distroads = load_proximity('DistanceToRoads.sdat')                                            #12\n",
        "    distrivers = load_proximity('DistanceToWater.sdat')                                           #13\n",
        "    distUA = load_proximity('DistanceToUA.sdat')                                                  #14\n",
        "\n",
        "    #6 clases variable land cover\n",
        "    LAND_COVER = DATA_DIR + \"/land cover vars/\" \n",
        "    load_land = lambda clase,ext:  gdal_array.LoadFile('{}{}-{}{}'.format(LAND_COVER, year,clase,ext))\n",
        "    c_1 = load_land('C1','.tif')                                                                   #15\n",
        "    c_2 = load_land('C2','.tif')                                                                   #16\n",
        "    c_3 = load_land('C3','.tif')                                                                   #17\n",
        "    c_4 = load_land('C4','.tif')                                                                   #18\n",
        "    c_5 = load_land('C5','.tif')                                                                   #19\n",
        "    c_6 = load_land('C6','.tif')                                                                   #20\n",
        "\n",
        "    # Raster con las clases (1 = incendio, 0 = no incendio)\n",
        "    ignition_class = gdal_array.LoadFile(DATA_DIR + \"/Ignition rasters/IF{}{}.sdat\".format(year, month)) #0\n",
        "\n",
        "    #Stack de las capas (variables + raster de clases)\n",
        "    Stack = np.dstack((ignition_class,tmax,tmin,windspeed,prec,aet, cwd, ndvi, aspect, slope, elev, surface, distroads, distrivers, distUA,c_1,c_2,c_3,c_4,c_5,c_6))\n",
        "\n",
        "    return Stack"
      ],
      "execution_count": null,
      "outputs": []
    },
    {
      "cell_type": "markdown",
      "metadata": {
        "id": "zSSirXkpJlHm"
      },
      "source": [
        "FASE DE ENTRENAMEINTO"
      ]
    },
    {
      "cell_type": "code",
      "metadata": {
        "id": "LDGAjc6dWVi3"
      },
      "source": [
        "import gdal\n",
        "import numpy as np\n",
        "import random\n",
        "from osgeo import gdal_array\n",
        "from sklearn.feature_extraction import image\n",
        "import itertools, random\n",
        "\n",
        "def CreateGeoTiff(Name, Array, driver, NDV, DataType, base, samplesize):\n",
        "    Array[np.isnan(Array)] = NDV\n",
        "    driver = gdal.GetDriverByName(driver)\n",
        "    DataSet = driver.Create(Name, samplesize, samplesize, 15, eType=gdal.GDT_Float32)\n",
        "    Geotr = base.GetGeoTransform()\n",
        "    proj = base.GetProjection()\n",
        "    DataSet.SetGeoTransform(Geotr)\n",
        "    DataSet.SetProjection(proj)\n",
        "    for i, image in enumerate(Array, 1):\n",
        "        DataSet.GetRasterBand(i).WriteArray(image)\n",
        "        DataSet.GetRasterBand(i).SetNoDataValue(NDV)\n",
        "    DataSet.FlushCache()\n",
        "    return Name\n",
        "\n",
        "def select(size, pair_size): #Generar coorenadas aleatorias de tamaño pair_size, en el rango size. ejemplo: select(15,2) genera una lista de coordenadas ( x1,x2), con x1 y x2 en el rango(15). \n",
        "    g = itertools.permutations(range(size), pair_size)\n",
        "    random_pairs = list(g)\n",
        "    random.shuffle(random_pairs)\n",
        "    return random_pairs\n",
        "\n",
        "def search(Matriz_inicial, x, y, cover, patchsize, search_level):\n",
        "    \"\"\"\n",
        "    No-fire sample search\n",
        "\n",
        "    search_level = 0 considera un area de (3 x patchsize) x (3 x patchsize)\n",
        "    search_level = 1 considera un area de (5 x patchsize) x (5 x patchsize)\n",
        "    search_level = 2 lo mismo pero 7x\n",
        "    search_level = 3 lo mismo pero 9x\n",
        "    search_level = 4 lo mismo pero 11x\n",
        "    \"\"\"\n",
        "    centroid = int(patchsize / 2 - 0.5)\n",
        "\n",
        "    if search_level == 0:\n",
        "        #primero se establece el area de busqueda (limitado al maximo de los margenes del area total)\n",
        "        # El área de búsqueda no varía, pero su distribución depende de donde esté ubicada la muestra seleccionada, de ahí los condicionales\n",
        "        # En el 1er caso, como la muestra está \"esquinada\" semi o completamente dentro del ráster completo , el área queda distribuida hacia arriba y hacia abajo de la muestra de forma fija,\n",
        "        # en el caso de patchsize = 7, el área queda [0:21 ,...]\n",
        "        if x < patchsize: a = patchsize # Muestra esquinada semi o completamente [superior izquierda o inferior izquierda], distribución del área fija [0:21,...]\n",
        "        elif x > 550 - 2 * patchsize: a = 550 - 2 * patchsize \n",
        "        else: a = x # Muestra no esquinada [...,....]\n",
        "        if y < patchsize: b = patchsize # Muestra esquinada semi o completamente [superior derecha o inferior derecha], distribución del área fija [..., 0:21]\n",
        "        elif y > 480 - 2 * patchsize: b = 480 - 2 * patchsize\n",
        "        else: b = y\n",
        "        area1 = Matriz_inicial[a - patchsize : a + (2 * patchsize), b - patchsize : b + (2 * patchsize), :] #Selecciona área en donde se buscaran aleatoriamente centroides clase 0 \n",
        "        pairs = select(area1.shape[0] - patchsize + 1, 2) # (area1.shape[0] = 7)\n",
        "        #pairs: lista de coordenadas aleatorias de centroides en el area de estudio para samplear la muestra\n",
        "        for t in range(len(pairs)):\n",
        "            i = pairs[t][0]\n",
        "            j = pairs[t][1]\n",
        "            randompatch = area1[i:i + patchsize, j:j + patchsize, :] # Muestra seleccionada en el área (Incluye todos los rasters)\n",
        "            ignition_raster = area1[i:i + patchsize, j:j + patchsize, 0] # Muestra seleccioanda en el área (Solo de la clase incendio)\n",
        "            countzero = np.count_nonzero(ignition_raster) # Cuenta los valores distintos de 0 en la muestra seleccionada de la clase incendio (verifica si hay o no incendios en la muestra)\n",
        "            if countzero==0 and cover[a-patchsize+i+centroid, b-patchsize+j+centroid] == 0: # Si no hay incendios en la muestra seleccionada, y esa muestra no se ha seleccionado antes, se selecciona dicha muestra\n",
        "                #patch=np.squeeze(randompatch) # comprime las dimensiones con valor 1\n",
        "                patch = randompatch\n",
        "                cover[a-patchsize+i+centroid, b-patchsize+j+centroid] = 2 # Asigna con valor 2 el centroide de la muestra seleccionada, para no volverla a seleccionar, el 2 indica que es de clase 0.\n",
        "                return patch, cover #Retorna el patch0 (patch de clase 0) seleccionado, junto con la matriz de 0 que representa los centroides de las muestras seleccionadas hasta el momento (1 incendio, 2 no incendio)\n",
        "            elif t == (len(pairs)-1): # Si es que no encuentra ninguna muestra clase 0 en el área especificada, en este caso (3 x patchsize)x( 3x patchsize)\n",
        "                search_level = 1 # Aumenta el rango de búsqueda\n",
        "                break\n",
        "    \n",
        "    if search_level == 1:\n",
        "        if x<2*patchsize: a=2*patchsize\n",
        "        elif x>550-3*patchsize: a=550-3*patchsize\n",
        "        else: a=x\n",
        "        if y<2*patchsize: b=2*patchsize\n",
        "        elif y>480-3*patchsize: b=480-3*patchsize\n",
        "        else: b=y\n",
        "        area2 = Matriz_inicial[a-(2*patchsize):a+(3*patchsize), b-(2*patchsize):b+(3*patchsize), :]\n",
        "        pairs=select(area2.shape[0]-patchsize+1, 2)\n",
        "        for t in range(len(pairs)):\n",
        "            i=pairs[t][0]\n",
        "            j=pairs[t][1]\n",
        "            randompatch = area2[i:i+patchsize, j:j+patchsize,:]\n",
        "            ignition_raster = area2[i:i+patchsize, j:j+patchsize,0]\n",
        "            countzero = np.count_nonzero(ignition_raster)\n",
        "            if countzero == 0 and cover[a-2*patchsize+i+centroid, b-2*patchsize+j+centroid] == 0:\n",
        "                #patch=np.squeeze(randompatch)\n",
        "                #patch0=patch.transpose(2,0,1)\n",
        "                patch = randompatch\n",
        "                cover[a-2*patchsize+i+centroid, b-2*patchsize+j+centroid] = 2\n",
        "                return patch, cover\n",
        "            elif t == (len(pairs)-1):\n",
        "                search_level = 2\n",
        "                break\n",
        "    if search_level == 2:\n",
        "        if x<3*patchsize: a=3*patchsize\n",
        "        elif x>550-4*patchsize: a=550-4*patchsize\n",
        "        else: a=x\n",
        "        if y<3*patchsize: b=3*patchsize\n",
        "        elif y>480-4*patchsize: b=480-4*patchsize\n",
        "        else: b=y\n",
        "        area3 = Matriz_inicial[a-(3*patchsize):a+(4*patchsize), b-(3*patchsize):b+(4*patchsize), :]\n",
        "        pairs=select(area3.shape[0]-patchsize+1, 2)\n",
        "        for t in range(len(pairs)):\n",
        "            i=pairs[t][0]\n",
        "            j=pairs[t][1]\n",
        "            randompatch = area3[i:i+patchsize, j:j+patchsize,:]\n",
        "            ignition_raster = area3[i:i+patchsize, j:j+patchsize,0]\n",
        "            countzero = np.count_nonzero(ignition_raster)\n",
        "            if countzero==0 and cover[a-3*patchsize+i+centroid, b-3*patchsize+j+centroid] == 0:\n",
        "                #patch=np.squeeze(randompatch)\n",
        "                #patch0=patch.transpose(2,0,1)\n",
        "                patch = randompatch\n",
        "                cover[a-3*patchsize+i+centroid, b-3*patchsize+j+centroid] = 2\n",
        "                return patch, cover\n",
        "            elif t == (len(pairs)-1):\n",
        "                search_level = 3\n",
        "                break\n",
        "    if search_level == 3:\n",
        "        if x<4*patchsize: a=4*patchsize\n",
        "        elif x>550-5*patchsize: a=550-5*patchsize\n",
        "        else: a=x\n",
        "        if y<4*patchsize: b=4*patchsize\n",
        "        elif y>480-5*patchsize: b=480-5*patchsize\n",
        "        else: b=y\n",
        "        area4 = Matriz_inicial[a-(4*patchsize):a+(5*patchsize), b-(4*patchsize):b+(5*patchsize), :]\n",
        "        pairs=select(area4.shape[0]-patchsize+1, 2)\n",
        "        for t in range(len(pairs)):\n",
        "            i=pairs[t][0]\n",
        "            j=pairs[t][1]\n",
        "            randompatch = area4[i:i+patchsize, j:j+patchsize,:]\n",
        "            ignition_raster = area4[i:i+patchsize, j:j+patchsize,0]\n",
        "            countzero = np.count_nonzero(ignition_raster)\n",
        "            if countzero==0 and cover[a-4*patchsize+i+centroid, b-4*patchsize+j+centroid] == 0:\n",
        "                #patch=np.squeeze(randompatch) \n",
        "                #patch0=patch.transpose(2,0,1)\n",
        "                patch = randompatch\n",
        "                cover[a-4*patchsize+i+centroid, b-4*patchsize+j+centroid] = 2\n",
        "                return patch, cover\n",
        "            elif t == (len(pairs)-1):\n",
        "                search_level = 4\n",
        "                print('search_level = 4')\n",
        "                break\n",
        "    if search_level == 4:\n",
        "        if x<5*patchsize: a=5*patchsize\n",
        "        elif x>550-6*patchsize: a=550-6*patchsize\n",
        "        else: a=x\n",
        "        if y<5*patchsize: b=5*patchsize\n",
        "        elif y>480-6*patchsize: b=480-6*patchsize\n",
        "        else: b=y\n",
        "        area5 = Matriz_inicial[a-(5*patchsize):a+(6*patchsize), b-(5*patchsize):b+(6*patchsize), :]\n",
        "        print(area5.shape)\n",
        "        pairs=select(area5.shape[0]-patchsize+1, 2)\n",
        "        for t in range(len(pairs)):\n",
        "            i=pairs[t][0]\n",
        "            j=pairs[t][1]\n",
        "            randompatch = area5[i:i+patchsize, j:j+patchsize,:]\n",
        "            ignition_raster = area5[i:i+patchsize, j:j+patchsize,0]\n",
        "            countzero = np.count_nonzero(ignition_raster)\n",
        "            if countzero==0 and cover[a-5*patchsize+i+centroid, b-5*patchsize+j+centroid] == 0:\n",
        "                #patch=np.squeeze(randompatch)\n",
        "                #patch0=patch.transpose(2,0,1)\n",
        "                patch = randompatch\n",
        "                cover[a-5*patchsize+i+centroid, b-5*patchsize+j+centroid] = 2\n",
        "                return patch, cover\n",
        "            elif t == (len(pairs)-1):\n",
        "                print('ERROR')\n",
        "                break    \n",
        "    "
      ],
      "execution_count": null,
      "outputs": []
    },
    {
      "cell_type": "code",
      "metadata": {
        "id": "h72WPMRkLI_n"
      },
      "source": [
        "def generate_dataset(Stack, patchsize): #Genera un dataset balanceado de n muestras de un conjunto de rasters, en este caso, las 15 variables (14 + 1)\n",
        "    n=1\n",
        "    covered = np.zeros((550,480), dtype=int) # Inicialización del Raster Incendios\n",
        "    \n",
        "    for i in range(550 - patchsize):\n",
        "        flag = False\n",
        "        for j in range(480 - patchsize):\n",
        "            muestra = Stack[i:i + patchsize, j:j + patchsize, 0] # Selecciona la muestra del Raster Ignition ( Variable Objetivo )\n",
        "            centroid = int(patchsize / 2 - 0.5)\n",
        "            \n",
        "            if muestra[centroid, centroid] == 1 and not NDV in muestra: #Si el centroide de la muestra corresponde a un incendio\n",
        "                #print('Hola')\n",
        "                patch = Stack[i:i + patchsize, j:j + patchsize, :] # Selecciona la muestra de todas las variables, es decir, la muestra de TODOS los Rasters\n",
        "                covered[i + centroid, j + centroid] = 1 #Asigna 1 cuando hubo incendio al Raster de incendios COMPLETO\n",
        "                #busqueda del patch de clase 0\n",
        "                patch0, covered = search(Stack, i, j, covered, patchsize, 0) #Busqueda de una muestra de clase 0, es decir , sin incendio, y ADYACENTE al area de incendio\n",
        "                #En esta parte selecciona la muestra con incendio, y luego la muestra adyacente a esta pero sin incendio,\n",
        "                #Estos son patch(clase incendio) y patch0(clase sin incendio)\n",
        "                #...\n",
        "                #Esta parte va agregando al dataset las muestras patch y patch0, el if es solo para agregar cuando el dataset está vacío y cuando deja de estarlo, pero se hace lo mismo.\n",
        "                if n == 1:\n",
        "                    Dataset = patch\n",
        "                    Dataset = np.stack((Dataset, patch0), axis=0) #Primera instancia del dataset, conformado por las primeras muestras patch y patch0           \n",
        "                else:\n",
        "                  # El np.expand agrega una dimensión , esto para que el dataset contenga n muestras de los 15 rasters de dim 7x7,\n",
        "                  # Esto es: (7,7,15) --> (n,7,7,15)\n",
        "                    \n",
        "                    patch = np.expand_dims(patch, axis=0) # muestra con incendio\n",
        "                    \n",
        "                    patch0 = np.expand_dims(patch0, axis=0) # muestra sin incendio\n",
        "                    Dataset = np.concatenate((Dataset, patch, patch0), axis=0) #Agrega la muestra con incendio y sin incendio, de manera que el dataset quede balanceado, ninguna muestra se repite!\n",
        "                n += 1\n",
        "    class_1 = np.count_nonzero(covered == 1)\n",
        "    return Dataset#, class_1"
      ],
      "execution_count": null,
      "outputs": []
    },
    {
      "cell_type": "code",
      "metadata": {
        "id": "6qM7HJAAE7gC"
      },
      "source": [
        "def plot_training_example(dataset, n_example):\n",
        "    fig, axs = plt.subplots(5, 5, figsize=(20,20))\n",
        "    titles = ['Ignition class', 'Max T', 'MinT', 'Wind Speed', 'prec', 'aet', 'cwd', 'NDVI', 'Aspect', 'Slope', 'Elevation', 'Surface', 'Distance to roads', 'Distance to rivers', 'distUA','C1','C2','C3','C4','C5','C6']\n",
        "\n",
        "    for i in range(21):\n",
        "        axs[i//5, i%5].imshow(dataset[n_example, :, :, i])\n",
        "        axs[i//5, i%5].set_title(titles[i])"
      ],
      "execution_count": null,
      "outputs": []
    },
    {
      "cell_type": "code",
      "metadata": {
        "id": "09fz4OJsQv9G"
      },
      "source": [
        "def plot(history) : \n",
        "  fig, axs = plt.subplots(nrows = 1, ncols = 2, figsize = ((14, 2)))\n",
        "  ax = axs[0]\n",
        "  min = np.min([np.min(history.history['accuracy']),np.min(history.history['val_accuracy'])])\n",
        "  max = np.max([np.max(history.history['accuracy']),np.max(history.history['val_accuracy'])])\n",
        "  ax.plot(history.history['accuracy'], label='accuracy')\n",
        "  ax.plot(history.history['val_accuracy'], label = 'val_accuracy')\n",
        "  ax.set_xlabel('Epoch')\n",
        "  ax.set_ylabel('Accuracy')\n",
        "  ax.set_ylim([min-0.1, max+0.1])\n",
        "  ax.legend(loc='lower right')\n",
        "  \n",
        "\n",
        "  ax = axs[1]\n",
        "  min = np.min([np.min(history.history['loss']),np.min(history.history['val_loss'])])\n",
        "  max = np.max([np.max(history.history['loss']),np.max(history.history['val_loss'])])\n",
        "\n",
        "  ax.plot(history.history['loss'], label='loss')\n",
        "  ax.plot(history.history['val_loss'], label = 'val_loss')\n",
        "  ax.set_xlabel('Epoch')\n",
        "  ax.set_ylabel('Loss')\n",
        "  ax.set_ylim([min - 0.1 , max + 0.1])\n",
        "  ax.legend(loc='lower right')\n",
        "  plt.show()"
      ],
      "execution_count": null,
      "outputs": []
    },
    {
      "cell_type": "code",
      "metadata": {
        "id": "OA9f3tfLWLLt"
      },
      "source": [
        "def predict(model, X,threshold = 0.5):\n",
        "  y_pred = pd.DataFrame(model.predict(X), columns = ['status'])\n",
        "  y_pred = np.where(y_pred>=threshold,1,0)    \n",
        "  return y_pred"
      ],
      "execution_count": null,
      "outputs": []
    },
    {
      "cell_type": "markdown",
      "metadata": {
        "id": "eSMSJKudLW0o"
      },
      "source": [
        "# Generación del dataset CNN"
      ]
    },
    {
      "cell_type": "code",
      "metadata": {
        "id": "QTTdyJd-kj7-",
        "colab": {
          "base_uri": "https://localhost:8080/"
        },
        "outputId": "7a837714-6a11-4b0e-98cb-b64be0a52f85"
      },
      "source": [
        "YEAR = [2013,2014,2015,2016,2017,2018]#,2017,2018]\n",
        "MONTH = ['01','02','03','04','05','06','07','08','09','10','11','12']\n",
        "VARIABLES =  ['Ignition class', 'Max T', 'MinT', 'Wind Speed', 'prec', 'aet', 'cwd', 'NDVI', 'Aspect', 'Slope', 'Elevation', 'Surface', 'Distance to roads', 'Distance to rivers', 'distUA','C1','C2','C3','C4','C5','C6']\n",
        "#MONTH = ['01','02','03','04','09']\n",
        "patchsize = 7\n",
        "FIRES = 0\n",
        "n = 0\n",
        "m = 0\n",
        "\n",
        "for year in YEAR:\n",
        "  for month in MONTH:\n",
        "    #print('{}, {}, {}'.format(month,year,n))\n",
        "    try:\n",
        "      if n == 0:\n",
        "        DataSet = generate_dataset(load_variables(year, month),patchsize)\n",
        "        #FIRES += generate_dataset(load_variables(year, month), patchsize)[1]\n",
        "      else:\n",
        "        #FIRES += generate_dataset(load_variables(year, month), patchsize)[1]\n",
        "        #Dataset_i = generate_dataset(load_variables(year, month),patchsize)[0]\n",
        "        #Dataset_i = generate_dataset(load_variables(year, month),patchsize) \n",
        "        DataSet = np.concatenate((DataSet, generate_dataset(load_variables(year,month),patchsize)), axis=0)\n",
        "      n += 1\n",
        "    except:\n",
        "      m += 1\n",
        "      pass\n",
        "print(n)\n",
        "print(m)    \n",
        " \n",
        "\n"
      ],
      "execution_count": null,
      "outputs": [
        {
          "output_type": "stream",
          "text": [
            "36\n",
            "36\n"
          ],
          "name": "stdout"
        }
      ]
    },
    {
      "cell_type": "code",
      "metadata": {
        "colab": {
          "base_uri": "https://localhost:8080/"
        },
        "id": "0RO0teIuqHF2",
        "outputId": "83ce5a35-44f0-43b8-c858-1e7e9eff7856"
      },
      "source": [
        "DataSet.shape"
      ],
      "execution_count": null,
      "outputs": [
        {
          "output_type": "execute_result",
          "data": {
            "text/plain": [
              "(9906, 7, 7, 21)"
            ]
          },
          "metadata": {
            "tags": []
          },
          "execution_count": 15
        }
      ]
    },
    {
      "cell_type": "code",
      "metadata": {
        "colab": {
          "base_uri": "https://localhost:8080/"
        },
        "id": "rPwUKalKLjZ6",
        "outputId": "0091c4be-d713-4f2c-85d3-32f7f560666f"
      },
      "source": [
        "d = 0\n",
        "for muestra in DataSet:\n",
        "  if NDV not in muestra:\n",
        "    if d == 0:\n",
        "      muestra = np.expand_dims(muestra, axis=0)\n",
        "      DataSet3 = muestra\n",
        "    else:\n",
        "      muestra = np.expand_dims(muestra, axis=0)\n",
        "      DataSet3 = np.concatenate((DataSet3,muestra),axis = 0)\n",
        "    d += 1\n",
        "DataSet3.shape"
      ],
      "execution_count": null,
      "outputs": [
        {
          "output_type": "execute_result",
          "data": {
            "text/plain": [
              "(9794, 7, 7, 21)"
            ]
          },
          "metadata": {
            "tags": []
          },
          "execution_count": 16
        }
      ]
    },
    {
      "cell_type": "code",
      "metadata": {
        "id": "jtq0WdwrmtJO",
        "colab": {
          "base_uri": "https://localhost:8080/",
          "height": 1000
        },
        "outputId": "147d0062-8db0-428a-eaf9-7cb1850b7799"
      },
      "source": [
        "# centroid = 3\n",
        "plot_training_example(DataSet, 10)\n",
        "# DataSet[10,:,:,0],\n",
        "# DataSet[10,3,3,0] == 1 or DataSet[10,3,3,0] == 0\n",
        "# Y = np.where(DataSet[:,3,3,0] == 1,1,0) = [1,0,1,0,1,0,1,0,1,0...]"
      ],
      "execution_count": null,
      "outputs": [
        {
          "output_type": "display_data",
          "data": {
            "image/png": "[encoded data removed]",
            "text/plain": [
              "<Figure size 1440x1440 with 25 Axes>"
            ]
          },
          "metadata": {
            "tags": [],
            "needs_background": "light"
          }
        }
      ]
    },
    {
      "cell_type": "code",
      "metadata": {
        "colab": {
          "base_uri": "https://localhost:8080/"
        },
        "id": "sOVZsRuS3obi",
        "outputId": "4b77d57a-07d4-4ff3-d722-324fafe38ea7"
      },
      "source": [
        "DataSet3.shape\n"
      ],
      "execution_count": null,
      "outputs": [
        {
          "output_type": "execute_result",
          "data": {
            "text/plain": [
              "(9794, 7, 7, 21)"
            ]
          },
          "metadata": {
            "tags": []
          },
          "execution_count": 18
        }
      ]
    },
    {
      "cell_type": "code",
      "metadata": {
        "colab": {
          "base_uri": "https://localhost:8080/"
        },
        "id": "g8PB0rOo7CkQ",
        "outputId": "0f91be9e-e863-496c-cba3-b8f1c706d44b"
      },
      "source": [
        "DataSet3.shape[-1]"
      ],
      "execution_count": null,
      "outputs": [
        {
          "output_type": "execute_result",
          "data": {
            "text/plain": [
              "21"
            ]
          },
          "metadata": {
            "tags": []
          },
          "execution_count": 19
        }
      ]
    },
    {
      "cell_type": "code",
      "metadata": {
        "id": "8fLXoPbALeEe"
      },
      "source": [
        "centroid = int(patchsize / 2 - 0.5)\n",
        "Fire = np.where(DataSet3[:,centroid,centroid,0]==1,1,0) "
      ],
      "execution_count": null,
      "outputs": []
    },
    {
      "cell_type": "code",
      "metadata": {
        "colab": {
          "base_uri": "https://localhost:8080/"
        },
        "id": "n97CIMC_MAgH",
        "outputId": "27dcd79a-f2cd-4b1e-ce6b-4c13dc8db99c"
      },
      "source": [
        "#DataSet balanceado\n",
        "fire = 0\n",
        "no_fire = 0\n",
        "for i in Fire:\n",
        "  if i ==1:\n",
        "    fire += 1\n",
        "  else:\n",
        "    no_fire += 1\n",
        "print(\"fire: {}, no fire: {}\".format(fire,no_fire))"
      ],
      "execution_count": null,
      "outputs": [
        {
          "output_type": "stream",
          "text": [
            "fire: 4864, no fire: 4930\n"
          ],
          "name": "stdout"
        }
      ]
    },
    {
      "cell_type": "code",
      "metadata": {
        "id": "LvLg3Io9ww1e"
      },
      "source": [
        "def groupby(Y):\n",
        "  fire = 0\n",
        "  no_fire = 0\n",
        "  for i in Y:\n",
        "    if i ==1:\n",
        "      fire += 1\n",
        "    elif i == 0:\n",
        "      no_fire += 1\n",
        "    else:\n",
        "      pass\n",
        "  print(\"fire: {}, no fire: {}\".format(fire,no_fire))"
      ],
      "execution_count": null,
      "outputs": []
    },
    {
      "cell_type": "code",
      "metadata": {
        "colab": {
          "base_uri": "https://localhost:8080/"
        },
        "id": "SUU_hcFYa7IZ",
        "outputId": "36d052bb-b5bf-4bff-9d0f-8152cf097450"
      },
      "source": [
        "m = len(DataSet3)\n",
        "m"
      ],
      "execution_count": null,
      "outputs": [
        {
          "output_type": "execute_result",
          "data": {
            "text/plain": [
              "9794"
            ]
          },
          "metadata": {
            "tags": []
          },
          "execution_count": 23
        }
      ]
    },
    {
      "cell_type": "code",
      "metadata": {
        "id": "WIJ1arPdQwSn"
      },
      "source": [
        "def diference(Y):\n",
        "  fire = 0\n",
        "  no_fire = 0\n",
        "  for i in Y:\n",
        "    if i ==1:\n",
        "      fire += 1\n",
        "    elif i == 0:\n",
        "      no_fire += 1\n",
        "    else:\n",
        "      pass\n",
        "  return np.max([fire,no_fire]) -np.min([fire,no_fire])"
      ],
      "execution_count": null,
      "outputs": []
    },
    {
      "cell_type": "code",
      "metadata": {
        "colab": {
          "base_uri": "https://localhost:8080/"
        },
        "id": "_W0AC5cYX85O",
        "outputId": "896dd864-d0ca-4a76-994a-361fa1c3de90"
      },
      "source": [
        "diference(Fire)"
      ],
      "execution_count": null,
      "outputs": [
        {
          "output_type": "execute_result",
          "data": {
            "text/plain": [
              "66"
            ]
          },
          "metadata": {
            "tags": []
          },
          "execution_count": 25
        }
      ]
    },
    {
      "cell_type": "code",
      "metadata": {
        "id": "HA6kGW4hQCv6"
      },
      "source": [
        "index = []\n",
        "j = 0\n",
        "for i,muestra in enumerate(DataSet3):\n",
        "\n",
        "  if int(muestra[centroid,centroid,0]) == 0 :\n",
        "    index.append(i)\n",
        "    j+=1\n",
        "  if j == diference(Fire):\n",
        "    break\n",
        "  else: \n",
        "    pass\n",
        " \n"
      ],
      "execution_count": null,
      "outputs": []
    },
    {
      "cell_type": "code",
      "metadata": {
        "colab": {
          "base_uri": "https://localhost:8080/"
        },
        "id": "2vYKGdOHV3rH",
        "outputId": "3e48aa99-0f35-48f6-fc99-8a1bf8cd0f4d"
      },
      "source": [
        "len(index)"
      ],
      "execution_count": null,
      "outputs": [
        {
          "output_type": "execute_result",
          "data": {
            "text/plain": [
              "66"
            ]
          },
          "metadata": {
            "tags": []
          },
          "execution_count": 27
        }
      ]
    },
    {
      "cell_type": "code",
      "metadata": {
        "id": "-JIEneSzZcga"
      },
      "source": [
        "DataSet4 = np.delete(DataSet3,index,axis = 0)\n",
        "DataSet4.shape\n",
        "y = np.where(DataSet4[:,centroid,centroid,0] == 1, 1,0)\n",
        "X = DataSet4[:,:,:,1::]"
      ],
      "execution_count": null,
      "outputs": []
    },
    {
      "cell_type": "code",
      "metadata": {
        "colab": {
          "base_uri": "https://localhost:8080/"
        },
        "id": "E8F02mr9Z82z",
        "outputId": "fd6a112d-ad98-4356-ebd7-ed1300b78be9"
      },
      "source": [
        "groupby(y)\n",
        "X.shape"
      ],
      "execution_count": null,
      "outputs": [
        {
          "output_type": "stream",
          "text": [
            "fire: 4864, no fire: 4864\n"
          ],
          "name": "stdout"
        },
        {
          "output_type": "execute_result",
          "data": {
            "text/plain": [
              "(9728, 7, 7, 20)"
            ]
          },
          "metadata": {
            "tags": []
          },
          "execution_count": 29
        }
      ]
    },
    {
      "cell_type": "markdown",
      "metadata": {
        "id": "1axzWx0gLhHX"
      },
      "source": [
        "# Separación en set de testeo y set de entrenamiento"
      ]
    },
    {
      "cell_type": "code",
      "metadata": {
        "colab": {
          "base_uri": "https://localhost:8080/"
        },
        "id": "HvzwO3TwdQ4G",
        "outputId": "6c6745e7-de36-47e1-8ac1-757f8f8b524e"
      },
      "source": [
        "X_train, X_test, y_train, y_test = train_test_split(X, y, test_size=0.2, random_state=3)\n",
        "print(X_train.shape, X_test.shape, len(y_train),len(y_test))\n",
        "groupby(y_train)\n",
        "groupby(y_test)\n"
      ],
      "execution_count": null,
      "outputs": [
        {
          "output_type": "stream",
          "text": [
            "(7782, 7, 7, 20) (1946, 7, 7, 20) 7782 1946\n",
            "fire: 3890, no fire: 3892\n",
            "fire: 974, no fire: 972\n"
          ],
          "name": "stdout"
        }
      ]
    },
    {
      "cell_type": "markdown",
      "metadata": {
        "id": "dEXRxqZ8TGV6"
      },
      "source": [
        "# *5 Fold Cross-validation"
      ]
    },
    {
      "cell_type": "code",
      "metadata": {
        "id": "n6Xls42qt6x1"
      },
      "source": [
        "cv = sklearn.model_selection.KFold(5,shuffle = True, random_state = 0)\n",
        "\n",
        "h = 1\n",
        "Cross = {}\n",
        "for train_indices, test_indices in cv.split(X_train):\n",
        "    x_train_, x_val_ = X_train[train_indices], X_train[test_indices]\n",
        "    y_train_, y_val_ = y_train[train_indices], y_train[test_indices]\n",
        "    Cross['Fold_{}'.format(h)] = x_train_, x_val_ ,y_train_, y_val_\n",
        "    h += 1\n",
        "\n",
        "X_train_1,X_val_1,y_train_1,y_val_1 = Cross['Fold_1']\n",
        "X_train_2,X_val_2,y_train_2,y_val_2 = Cross['Fold_2']\n",
        "X_train_3,X_val_3,y_train_3,y_val_3 = Cross['Fold_3']\n",
        "X_train_4,X_val_4,y_train_4,y_val_4 = Cross['Fold_4']\n",
        "X_train_5,X_val_5,y_train_5,y_val_5 = Cross['Fold_5']"
      ],
      "execution_count": null,
      "outputs": []
    },
    {
      "cell_type": "code",
      "metadata": {
        "colab": {
          "base_uri": "https://localhost:8080/"
        },
        "id": "uNHhJ7WDmi0j",
        "outputId": "c15a2383-b080-4c2c-c529-121780da0a7e"
      },
      "source": [
        "Cross['Fold_1'][0].shape"
      ],
      "execution_count": null,
      "outputs": [
        {
          "output_type": "execute_result",
          "data": {
            "text/plain": [
              "(6225, 7, 7, 20)"
            ]
          },
          "metadata": {
            "tags": []
          },
          "execution_count": 32
        }
      ]
    },
    {
      "cell_type": "markdown",
      "metadata": {
        "id": "la4jhj88LN-j"
      },
      "source": [
        "# *Modelo CNN 1"
      ]
    },
    {
      "cell_type": "code",
      "metadata": {
        "id": "8mF3B2nNw3Ez"
      },
      "source": [
        "#Definición de los optimizadores a probar, estos son ADAM Y RMSprop, ya que son lo que usualmente tienen mejores resultados.\n",
        "lr_schedule_01 = tf.keras.optimizers.schedules.InverseTimeDecay(0.1, decay_steps=1*10, decay_rate=1)\n",
        "lr_schedule_001 = tf.keras.optimizers.schedules.InverseTimeDecay(0.01, decay_steps=1*10, decay_rate=1)\n",
        "lr_schedule_0001 = tf.keras.optimizers.schedules.InverseTimeDecay(0.001, decay_steps=1*10, decay_rate=1)\n",
        "lr_schedule_00001 = tf.keras.optimizers.schedules.InverseTimeDecay(0.0001, decay_steps=1*10, decay_rate=1)\n",
        "def lr_schedule(l_r):\n",
        "  return tf.keras.optimizers.schedules.InverseTimeDecay(l_r, decay_steps=1*10, decay_rate=1)\n",
        "def SGD(lr_schedulee):\n",
        "  return tf.keras.optimizers.SGD(lr_schedulee)\n",
        "def Adam1(lr_schedulee = lr_schedule_01):\n",
        "  return tf.keras.optimizers.Adam(lr_schedulee)\n",
        "\n",
        "#def RMSprop(lr_schedulee):\n",
        "#  return tf.keras.optimizers.RMSprop(lr_schedulee)"
      ],
      "execution_count": null,
      "outputs": []
    },
    {
      "cell_type": "code",
      "metadata": {
        "id": "XT5tIadvnbzr"
      },
      "source": [
        "from tensorflow import keras\n",
        "from keras.layers.core import Dropout\n",
        "from keras.regularizers import L1L2\n",
        "from keras.layers import BatchNormalization"
      ],
      "execution_count": null,
      "outputs": []
    },
    {
      "cell_type": "code",
      "metadata": {
        "id": "9DXPdstufIbs"
      },
      "source": [
        "#Fold 1 : val accuracy: 0.6511040925979614, train_accuracy: 0.6393752694129944 \n",
        "# Fold 1 (droppout 0.0) (L1: 0.0) (L2: 0.001) (Learning rate : 0.01) (Optimizer: Adam) (batch_size: 64) (best_epoch: 19)"
      ],
      "execution_count": null,
      "outputs": []
    },
    {
      "cell_type": "code",
      "metadata": {
        "id": "nOGBZz08Lw5R"
      },
      "source": [
        "XX_train, yy_train,XX_val, yy_val = X_train_1, y_train_1, X_val_1, y_val_1  \n",
        "model = keras.models.Sequential()\n",
        "'''\n",
        "seed_value= 0\n",
        "# 1. Set `PYTHONHASHSEED` environment variable at a fixed value\n",
        "import os\n",
        "os.environ['PYTHONHASHSEED']=str(seed_value)\n",
        "# 2. Set `python` built-in pseudo-random generator at a fixed value\n",
        "import random\n",
        "random.seed(seed_value)\n",
        "# 3. Set `numpy` pseudo-random generator at a fixed value\n",
        "import numpy as np\n",
        "np.random.seed(seed_value)\n",
        "# 4. Set `tensorflow` pseudo-random generator at a fixed value\n",
        "import tensorflow as tf\n",
        "tf.random.set_seed(seed_value)\n",
        "# 5. Configure a new global `tensorflow` session\n",
        "from keras import backend as K\n",
        "session_conf = tf.compat.v1.ConfigProto(intra_op_parallelism_threads=1, inter_op_parallelism_threads=1)\n",
        "sess = tf.compat.v1.Session(graph=tf.compat.v1.get_default_graph(), config=session_conf)\n",
        "K.set_session(sess)\n",
        "'''\n",
        "#Adam 0.01 0.2 0.0 0.001 64 0.6575434268986731\n",
        "L1,L2 = 0.0,0.001\n",
        "do = 0.2\n",
        "l_r = 0.01\n",
        "batch = 64\n",
        "epoch = 20\n",
        "opt = Adam1(lr_schedulee = lr_schedule(l_r))\n",
        "# Capas convolucionales\n",
        "#Conv1\n",
        "\n",
        "\n",
        "model.add(keras.layers.Conv2D(32, kernel_size=(3, 3),activation='relu',kernel_regularizer=L1L2(L1,L2), input_shape=(patchsize, patchsize, 20)))\n",
        "model.add(BatchNormalization())\n",
        "#model.add(Dropout(do))\n",
        "#Max-pool 1\n",
        "model.add(keras.layers.MaxPooling2D(pool_size = (2, 2),strides=2))\n",
        "#model.add(Dropout(do))\n",
        "#Conv2\n",
        "model.add(keras.layers.Conv2D(64, kernel_size= (3, 3),activation='relu', kernel_regularizer=L1L2(L1,L2),padding='same'))\n",
        "#model.add(Dropout(do))\n",
        "#Max-pool 2\n",
        "model.add(keras.layers.MaxPooling2D(pool_size = (2, 2),strides=2))\n",
        "model.add(Dropout(do))\n",
        "#Conv3\n",
        "model.add(keras.layers.Conv2D(128, kernel_size=(3, 3), activation='relu',kernel_regularizer=L1L2(L1,L2),padding = 'same'))\n",
        "#model.add(Dropout(do))\n",
        "\n",
        "\n",
        "# Capas fully connected\n",
        "\n",
        "model.add(keras.layers.Flatten())\n",
        "#FC1\n",
        "model.add(keras.layers.Dense(128,kernel_regularizer=L1L2(L1,L2),activation='relu'))\n",
        "model.add(Dropout(do))\n",
        "#FC2\n",
        "model.add(keras.layers.Dense(64, kernel_regularizer=L1L2(L1,L2),activation='relu'))\n",
        "model.add(Dropout(do))\n",
        "#FC3\n",
        "model.add(keras.layers.Dense(32,kernel_regularizer=L1L2(L1,L2),activation='relu'))\n",
        "model.add(Dropout(do))\n",
        "#Sigmoid\n",
        "model.add(keras.layers.Dense(1,kernel_regularizer=L1L2(L1,L2),activation = 'sigmoid'))\n",
        "\n",
        "#model.summary()"
      ],
      "execution_count": null,
      "outputs": []
    },
    {
      "cell_type": "code",
      "metadata": {
        "id": "rCQRkECZI2IF"
      },
      "source": [
        "#with tf.device('cpu:0'): # Esta linea esta solo porque no tengo configurada mi GPU\n",
        "model.compile(optimizer= opt,\n",
        "            loss='binary_crossentropy',#tf.keras.losses.BinaryCrossentropy(from_logits=True),\n",
        "            metrics=['accuracy'])\n",
        "\n",
        "history = model.fit(XX_train, yy_train, epochs=epoch, batch_size=batch,callbacks= [tf.keras.callbacks.EarlyStopping(monitor='val_accuracy', patience=8)],\n",
        "                    verbose = 0,validation_data=(XX_val, yy_val))"
      ],
      "execution_count": null,
      "outputs": []
    },
    {
      "cell_type": "code",
      "metadata": {
        "colab": {
          "base_uri": "https://localhost:8080/",
          "height": 172
        },
        "id": "L72GCpFoNPZE",
        "outputId": "d0694612-6b5b-41d5-89ed-0c6091fd1963"
      },
      "source": [
        "\n",
        "plot(history = history)"
      ],
      "execution_count": null,
      "outputs": [
        {
          "output_type": "display_data",
          "data": {
            "image/png": "[encoded data removed]",
            "text/plain": [
              "<Figure size 1008x144 with 2 Axes>"
            ]
          },
          "metadata": {
            "tags": [],
            "needs_background": "light"
          }
        }
      ]
    },
    {
      "cell_type": "code",
      "metadata": {
        "id": "rxdKfRocyLre"
      },
      "source": [
        "y_pred = predict(model,XX_val,threshold=0.5)"
      ],
      "execution_count": null,
      "outputs": []
    },
    {
      "cell_type": "code",
      "metadata": {
        "colab": {
          "base_uri": "https://localhost:8080/",
          "height": 264
        },
        "id": "hSHqWjIWx-t3",
        "outputId": "7f975277-d9f9-4817-cc1b-ac24f7f11500"
      },
      "source": [
        "conf_mat = [0,0]\n",
        "conf_mat[0] = confusion_matrix(yy_val, y_pred)\n",
        "conf_mat[1] = conf_mat[0].T / np.sum(conf_mat[0], axis = 1)\n",
        "# Podemos usar seaborn para graficar esta matriz\n",
        "sns.heatmap(conf_mat[1].T, annot = True)\n",
        "plt.show()"
      ],
      "execution_count": null,
      "outputs": [
        {
          "output_type": "display_data",
          "data": {
            "image/png": "[encoded data removed]",
            "text/plain": [
              "<Figure size 432x288 with 2 Axes>"
            ]
          },
          "metadata": {
            "tags": [],
            "needs_background": "light"
          }
        }
      ]
    },
    {
      "cell_type": "code",
      "metadata": {
        "colab": {
          "base_uri": "https://localhost:8080/"
        },
        "id": "T7Ja58qvy8xR",
        "outputId": "bf54e846-1a02-42de-d1c2-c7b05793f6fb"
      },
      "source": [
        "print(f1_score(yy_val, y_pred,average='binary'),recall_score(yy_val,y_pred,average='binary'),precision_score(yy_val,y_pred,average = 'binary'))"
      ],
      "execution_count": null,
      "outputs": [
        {
          "output_type": "stream",
          "text": [
            "0.6423889293517844 0.582562747688243 0.7159090909090909\n"
          ],
          "name": "stdout"
        }
      ]
    },
    {
      "cell_type": "code",
      "metadata": {
        "id": "llwojdwnb1rZ"
      },
      "source": [
        "a = np.squeeze(model.predict(X_test))"
      ],
      "execution_count": null,
      "outputs": []
    },
    {
      "cell_type": "code",
      "metadata": {
        "colab": {
          "base_uri": "https://localhost:8080/"
        },
        "id": "HizlXh1db1ra",
        "outputId": "175b9a31-eb11-4671-c1b5-2f25f4300e95"
      },
      "source": [
        "b = np.array(a)\n",
        "print(np.max(b),np.min(b),np.std(b))"
      ],
      "execution_count": null,
      "outputs": [
        {
          "output_type": "stream",
          "text": [
            "0.98526263 0.1698493 0.22710845\n"
          ],
          "name": "stdout"
        }
      ]
    },
    {
      "cell_type": "code",
      "metadata": {
        "colab": {
          "base_uri": "https://localhost:8080/",
          "height": 347
        },
        "id": "pMASo8GMb1rb",
        "outputId": "dcba8260-5a46-4971-a6de-07907f778efb"
      },
      "source": [
        "plt.hist(b)"
      ],
      "execution_count": null,
      "outputs": [
        {
          "output_type": "execute_result",
          "data": {
            "text/plain": [
              "(array([175., 471., 286., 231., 178., 156., 101.,  74.,  92., 182.]),\n",
              " array([0.1698493 , 0.25139064, 0.33293197, 0.4144733 , 0.49601462,\n",
              "        0.57755595, 0.6590973 , 0.7406386 , 0.82218   , 0.9037213 ,\n",
              "        0.98526263], dtype=float32),\n",
              " <a list of 10 Patch objects>)"
            ]
          },
          "metadata": {
            "tags": []
          },
          "execution_count": 177
        },
        {
          "output_type": "display_data",
          "data": {
            "image/png": "[encoded data removed]",
            "text/plain": [
              "<Figure size 432x288 with 1 Axes>"
            ]
          },
          "metadata": {
            "tags": [],
            "needs_background": "light"
          }
        }
      ]
    },
    {
      "cell_type": "markdown",
      "metadata": {
        "id": "3HGwzP0TLzjN"
      },
      "source": [
        "# *Modelo CNN 2"
      ]
    },
    {
      "cell_type": "code",
      "metadata": {
        "id": "H77E7K3-L92X"
      },
      "source": [
        "#XX_train, yy_train,XX_val, yy_val = X_train_1, y_train_1, X_val_1, y_val_1 \n",
        "from keras.layers import Conv2D, MaxPooling2D\n",
        "from keras.layers.core import Dropout, Activation\n",
        "from keras.regularizers import L1L2\n",
        "#Adam 0.01 0.0 0.001 0.0 32 0.656386944770528\n",
        "L1,L2 = 0.001,0.001\n",
        "do = 0.5\n",
        "l_r = 0.01\n",
        "batch = 32\n",
        "epoch = 20\n",
        "opt = Adam1(lr_schedulee = lr_schedule(l_r))\n",
        "\n",
        "model_2 = keras.Sequential()\n",
        "model_2.add(BatchNormalization())\n",
        "\n",
        "#Conv1\n",
        "model_2.add(Conv2D(32, kernel_size=(3, 3), activation='relu', input_shape=(patchsize, patchsize, 20)))\n",
        "#Max-pool 1\n",
        "model_2.add(MaxPooling2D(pool_size = (2, 2),strides=2))\n",
        "#Conv2\n",
        "model_2.add(Conv2D(64, kernel_size= (3, 3), activation='relu', padding='same'))\n",
        "#Max-pool 2\n",
        "model_2.add(MaxPooling2D(pool_size = (2, 2),strides=2))\n",
        "\n",
        "# Capas fully connected\n",
        "\n",
        "model_2.add(keras.layers.Flatten())\n",
        "#FC1\n",
        "model_2.add(keras.layers.Dense(1024,kernel_regularizer=L1L2(L1,L2), activation='relu'))\n",
        "model_2.add(Dropout(do))\n",
        "\n",
        "#Sigmoid\n",
        "model_2.add(keras.layers.Dense(1, activation = 'sigmoid'))\n"
      ],
      "execution_count": null,
      "outputs": []
    },
    {
      "cell_type": "code",
      "metadata": {
        "id": "-o-dcbctMHGc"
      },
      "source": [
        "model_2.compile(optimizer=opt,\n",
        "                loss=keras.losses.BinaryCrossentropy(),\n",
        "                metrics=['accuracy'])\n",
        "history_2 = model_2.fit(XX_train, yy_train, epochs=epoch, batch_size=batch,callbacks= [tf.keras.callbacks.EarlyStopping(monitor='val_accuracy', patience=8)],\n",
        "                    verbose = 0,validation_data=(XX_val, yy_val))"
      ],
      "execution_count": null,
      "outputs": []
    },
    {
      "cell_type": "code",
      "metadata": {
        "colab": {
          "base_uri": "https://localhost:8080/",
          "height": 171
        },
        "id": "tttFN4slNt5O",
        "outputId": "b007be96-8d12-405a-f1de-53eed43a45f8"
      },
      "source": [
        "plot(history = history_2)"
      ],
      "execution_count": null,
      "outputs": [
        {
          "output_type": "display_data",
          "data": {
            "image/png": "[encoded data removed]",
            "text/plain": [
              "<Figure size 1008x144 with 2 Axes>"
            ]
          },
          "metadata": {
            "tags": [],
            "needs_background": "light"
          }
        }
      ]
    },
    {
      "cell_type": "code",
      "metadata": {
        "id": "iuakHr8ON-GQ"
      },
      "source": [
        "y_pred_2 = predict(model_2,XX_val)"
      ],
      "execution_count": null,
      "outputs": []
    },
    {
      "cell_type": "code",
      "metadata": {
        "id": "tFFbe6CMN-Sh"
      },
      "source": [
        "from sklearn.metrics import confusion_matrix, plot_confusion_matrix, f1_score\n",
        "import seaborn as sns"
      ],
      "execution_count": null,
      "outputs": []
    },
    {
      "cell_type": "code",
      "metadata": {
        "colab": {
          "base_uri": "https://localhost:8080/",
          "height": 264
        },
        "id": "IVbt8IGjN-ba",
        "outputId": "65bb9c8b-9d4f-40be-84ab-604874d26eac"
      },
      "source": [
        "conf_mat_2 = [0,0]\n",
        "conf_mat_2[0] = confusion_matrix(yy_val, y_pred_2)\n",
        "conf_mat_2[1] = conf_mat_2[0].T / np.sum(conf_mat_2[0], axis = 1)\n",
        "# Podemos usar seaborn para graficar esta matriz\n",
        "sns.heatmap(conf_mat_2[1].T, annot = True)\n",
        "plt.show()"
      ],
      "execution_count": null,
      "outputs": [
        {
          "output_type": "display_data",
          "data": {
            "image/png": "[encoded data removed]",
            "text/plain": [
              "<Figure size 432x288 with 2 Axes>"
            ]
          },
          "metadata": {
            "tags": [],
            "needs_background": "light"
          }
        }
      ]
    },
    {
      "cell_type": "code",
      "metadata": {
        "colab": {
          "base_uri": "https://localhost:8080/"
        },
        "id": "1AE24_OLOI-M",
        "outputId": "42e4147a-a600-4296-cbaa-8c4a85f80d9b"
      },
      "source": [
        "f1_score(yy_val, y_pred_2,average='binary')"
      ],
      "execution_count": null,
      "outputs": [
        {
          "output_type": "execute_result",
          "data": {
            "text/plain": [
              "0.6396081175647306"
            ]
          },
          "metadata": {
            "tags": []
          },
          "execution_count": 49
        }
      ]
    },
    {
      "cell_type": "code",
      "metadata": {
        "id": "9ZvbBjOU47PG"
      },
      "source": [
        "def create_model():\n",
        "  from keras.layers import Conv2D, MaxPooling2D\n",
        "  from keras.layers.core import Dropout, Activation\n",
        "  from keras.regularizers import L1L2\n",
        "  #Adam 0.01 0.0 0.001 0.0 32 0.656386944770528\n",
        "  L1,L2 = 0.001,0.001\n",
        "  do = 0.5\n",
        "  l_r = 0.01\n",
        "  batch = 32\n",
        "  epoch = 20\n",
        "  opt = Adam1(lr_schedulee = lr_schedule(l_r))\n",
        "\n",
        "  model_2 = keras.Sequential()\n",
        "  model_2.add(BatchNormalization())\n",
        "\n",
        "  #Conv1\n",
        "  model_2.add(Conv2D(32, kernel_size=(3, 3), activation='relu', input_shape=(patchsize, patchsize, 20)))\n",
        "  #Max-pool 1\n",
        "  model_2.add(MaxPooling2D(pool_size = (2, 2),strides=2))\n",
        "  #Conv2\n",
        "  model_2.add(Conv2D(64, kernel_size= (3, 3), activation='relu', padding='same'))\n",
        "  #Max-pool 2\n",
        "  model_2.add(MaxPooling2D(pool_size = (2, 2),strides=2))\n",
        "\n",
        "  # Capas fully connected\n",
        "\n",
        "  model_2.add(keras.layers.Flatten())\n",
        "  #FC1\n",
        "  model_2.add(keras.layers.Dense(1024,kernel_regularizer=L1L2(L1,L2), activation='relu'))\n",
        "  model_2.add(Dropout(do))\n",
        "\n",
        "  #Sigmoid\n",
        "  model_2.add(keras.layers.Dense(1, activation = 'sigmoid'))\n",
        "\n",
        "  model_2.compile(optimizer=opt,\n",
        "                  loss=keras.losses.BinaryCrossentropy(),\n",
        "                  metrics=['accuracy'])\n",
        "  return model_2"
      ],
      "execution_count": null,
      "outputs": []
    },
    {
      "cell_type": "markdown",
      "metadata": {
        "id": "neUfY_bS_EHV"
      },
      "source": [
        "# Modelo CNN1 Hypermodel"
      ]
    },
    {
      "cell_type": "code",
      "metadata": {
        "id": "RO2gF893br8B"
      },
      "source": [
        "\n",
        "# hp es un objeto que representa nuestros hiperparametros,\n",
        "# que logicamente cambiaran durante el proceso de tuning.\n",
        "def model_builder(hp):\n",
        "  '''\n",
        "  # Seed value\n",
        "# Apparently you may use different seed values at each stage\n",
        "  seed_value= 0\n",
        "\n",
        "  # 1. Set `PYTHONHASHSEED` environment variable at a fixed value\n",
        "  import os\n",
        "  os.environ['PYTHONHASHSEED']=str(seed_value)\n",
        "\n",
        "  # 2. Set `python` built-in pseudo-random generator at a fixed value\n",
        "  import random\n",
        "  random.seed(seed_value)\n",
        "\n",
        "  # 3. Set `numpy` pseudo-random generator at a fixed value\n",
        "  import numpy as np\n",
        "  np.random.seed(seed_value)\n",
        "\n",
        "  # 4. Set `tensorflow` pseudo-random generator at a fixed value\n",
        "  import tensorflow as tf\n",
        "  tf.random.set_seed(seed_value)\n",
        "\n",
        "  # 5. Configure a new global `tensorflow` session\n",
        "  from keras import backend as K\n",
        "  session_conf = tf.compat.v1.ConfigProto(intra_op_parallelism_threads=1, inter_op_parallelism_threads=1)\n",
        "  sess = tf.compat.v1.Session(graph=tf.compat.v1.get_default_graph(), config=session_conf)\n",
        "  K.set_session(sess)\n",
        "  '''\n",
        "  \n",
        "  #from keras.models import Sequential\n",
        "  from keras.layers import Conv2D, MaxPooling2D\n",
        "  from keras.layers.core import Dropout, Activation\n",
        "  #from keras.optimizers import Adadelta, Adam, RMSprop\n",
        "  from keras.regularizers import L1L2\n",
        "\n",
        "  #Opciones de Hiperparámetros\n",
        "  L_r = hp.Choice('learning_rate', values=[1e-1,1e-2,1e-3, 1e-4])\n",
        "  #[Adam1(lr_schedulee = L_r_schedule)])\n",
        "  #Batch_size = [] #pendiente\n",
        "   #pendiente\n",
        "  #Batch_size = hp.choice('batch_size', [16,32,64])\n",
        "  do = hp.Choice('dropout',[0.0,0.2,0.5]) #Dropout_rate \n",
        "  L1 = hp.Choice('L1',[0e-1,1e-1,1e-2,1e-3])  #Kernel_regularizers_L1 \n",
        "  L2 = hp.Choice('L2',[0e-1,1e-1,1e-2,1e-3])  #Kernel_regularizers_L2  \n",
        "  #Batch_size = hp.Choice('batch_size',[16,32,64])\n",
        "  Opt = hp.Choice('Optimizer',['Adam'])#,'SGD'])\n",
        " \n",
        "  #hp_filters = hp.Int('filters', min_value=32, max_value=128, step=32)\n",
        "  #hp_kernel_size = hp.Choice('kernel_size', values=[3, 4, 5])\n",
        "  #hp_n_conv_layers = hp.Choice('n_conv_layers', values=[3,4,5])\n",
        "  #hp_conv_activation = hp.Choice('conv_activation', values=['relu', 'elu'])\n",
        "  \n",
        "  model = keras.Sequential()\n",
        "  #Conv1\n",
        "  \n",
        "  model.add(Conv2D(32, kernel_size=(3, 3), activation='relu', input_shape=(patchsize, patchsize, 20)))\n",
        "\n",
        "  model.add(BatchNormalization())\n",
        "  #Max-pool 1\n",
        "  model.add(MaxPooling2D(pool_size = (2, 2),strides=2))\n",
        "\n",
        "  #Conv2\n",
        "  model.add(Conv2D(64, kernel_size= (3, 3), activation='relu', padding='same'))\n",
        "\n",
        "  #Max-pool 2\n",
        "  model.add(MaxPooling2D(pool_size = (2, 2),strides=2))\n",
        "\n",
        "  #Conv3\n",
        "  model.add(Conv2D(128, kernel_size=(3, 3),activation='relu',padding = 'same'))\n",
        "\n",
        "  # Capas fully connected\n",
        "\n",
        "  model.add(keras.layers.Flatten())\n",
        "  #FC1\n",
        "  model.add(keras.layers.Dense(128,kernel_regularizer=L1L2(L1,L2), activation='relu'))\n",
        "  model.add(Dropout(do))\n",
        "\n",
        "  #FC2\n",
        "  model.add(keras.layers.Dense(64,kernel_regularizer=L1L2(L1,L2), activation='relu'))\n",
        "  model.add(Dropout(do))\n",
        "\n",
        "  #FC3\n",
        "  model.add(keras.layers.Dense(32, kernel_regularizer=L1L2(L1,L2),activation='relu'))\n",
        "  model.add(Dropout(do))\n",
        "  \n",
        "  #Sigmoid\n",
        "  model.add(keras.layers.Dense(1,kernel_regularizer=L1L2(L1,L2), activation = 'sigmoid'))\n",
        "\n",
        "  #model.compile(loss='binary_crossentropy', optimizer= Optimizer)\n",
        "\n",
        "  #model.fit(X_train_2, y_train_2, epochs=params['nb_epochs'], batch_size=params['batch_size'], verbose = 0,callbacks= [tf.keras.callbacks.EarlyStopping(monitor='val_loss', patience=8)],\n",
        "  #          validation_data=(X_val_2, y_val_2))\n",
        "  if Opt == 'Adam': #Adam\n",
        "    Optimizer = Adam1(lr_schedulee = tf.keras.optimizers.schedules.InverseTimeDecay(L_r, decay_steps=1*10, decay_rate=1))\n",
        "  else: #SGD\n",
        "    Optimizer = SGD(lr_schedulee = tf.keras.optimizers.schedules.InverseTimeDecay(L_r, decay_steps=1*10, decay_rate=1))\n",
        "  \n",
        "  model.compile(optimizer=Optimizer,\n",
        "                  loss=keras.losses.BinaryCrossentropy(),\n",
        "                  metrics=['accuracy'])\n",
        "  return model"
      ],
      "execution_count": null,
      "outputs": []
    },
    {
      "cell_type": "markdown",
      "metadata": {
        "id": "gLSWLM0cJols"
      },
      "source": [
        "# Modelo CNN2 Hypermodel\n",
        "\n",
        "---\n",
        "\n"
      ]
    },
    {
      "cell_type": "code",
      "metadata": {
        "id": "ruA7ZoJZ_AmW"
      },
      "source": [
        "def model_builder2(hp):\n",
        "  # Seed value\n",
        "# Apparently you may use different seed values at each stage\n",
        "  '''\n",
        "  seed_value= 0\n",
        "  \n",
        "  # 1. Set `PYTHONHASHSEED` environment variable at a fixed value\n",
        "  import os\n",
        "  os.environ['PYTHONHASHSEED']=str(seed_value)\n",
        "\n",
        "  # 2. Set `python` built-in pseudo-random generator at a fixed value\n",
        "  import random\n",
        "  random.seed(seed_value)\n",
        "\n",
        "  # 3. Set `numpy` pseudo-random generator at a fixed value\n",
        "  import numpy as np\n",
        "  np.random.seed(seed_value)\n",
        "\n",
        "  # 4. Set `tensorflow` pseudo-random generator at a fixed value\n",
        "  import tensorflow as tf\n",
        "  tf.random.set_seed(seed_value)\n",
        "\n",
        "  # 5. Configure a new global `tensorflow` session\n",
        "  from keras import backend as K\n",
        "  session_conf = tf.compat.v1.ConfigProto(intra_op_parallelism_threads=1, inter_op_parallelism_threads=1)\n",
        "  sess = tf.compat.v1.Session(graph=tf.compat.v1.get_default_graph(), config=session_conf)\n",
        "  K.set_session(sess)\n",
        "  '''\n",
        "  from keras.layers import Conv2D, MaxPooling2D\n",
        "  from keras.layers.core import Dropout, Activation\n",
        "  #from keras.optimizers import Adadelta, Adam, RMSprop\n",
        "  from keras.regularizers import L1L2\n",
        "\n",
        "  #Opciones de Hiperparámetros\n",
        "  L_r = hp.Choice('learning_rate', values=[1e-1,1e-2,1e-3, 1e-4])\n",
        "\n",
        "  do = hp.Choice('dropout',[0.2,0.5]) #Dropout_rate \n",
        "  L1 = hp.Choice('L1',[1e-1,1e-2,1e-3])  #Kernel_regularizers_L1 \n",
        "  L2 = hp.Choice('L2',[1e-1,1e-2,1e-3])  #Kernel_regularizers_L2\n",
        "  Opt = hp.Choice('Optimizer',['Adam'])#,'SGD'])  \n",
        " \n",
        "  \n",
        "  model = keras.Sequential()\n",
        "  model.add(BatchNormalization())\n",
        "\n",
        "  #Conv1\n",
        "  model.add(Conv2D(32, kernel_size=(3, 3), activation='relu', input_shape=(patchsize, patchsize, 20)))\n",
        "\n",
        "  #Max-pool 1\n",
        "  model.add(MaxPooling2D(pool_size = (2, 2),strides=2))\n",
        "\n",
        "  #Conv2\n",
        "  model.add(Conv2D(64, kernel_size= (3, 3), activation='relu', padding='same'))\n",
        "\n",
        "  #Max-pool 2\n",
        "  model.add(MaxPooling2D(pool_size = (2, 2),strides=2))\n",
        "\n",
        "  # Capas fully connected\n",
        "\n",
        "  model.add(keras.layers.Flatten())\n",
        "  #FC1\n",
        "  model.add(keras.layers.Dense(1024,kernel_regularizer=L1L2(L1,L2), activation='relu'))\n",
        "  model.add(Dropout(do))\n",
        "  \n",
        "  #Sigmoid\n",
        "  model.add(keras.layers.Dense(1, activation = 'sigmoid'))\n",
        "\n",
        "\n",
        "\n",
        "  if Opt == 'Adam': #Adam\n",
        "    Optimizer = Adam1(lr_schedulee = tf.keras.optimizers.schedules.InverseTimeDecay(L_r, decay_steps=1*10, decay_rate=1))\n",
        "  else: #SGD\n",
        "    Optimizer = SGD(lr_schedulee = tf.keras.optimizers.schedules.InverseTimeDecay(L_r, decay_steps=1*10, decay_rate=1))\n",
        "  \n",
        "  model.compile(optimizer=Optimizer,\n",
        "                  loss=keras.losses.BinaryCrossentropy(),\n",
        "                  metrics=['accuracy'])\n",
        "  return model"
      ],
      "execution_count": null,
      "outputs": []
    },
    {
      "cell_type": "markdown",
      "metadata": {
        "id": "q9YFCj7WervH"
      },
      "source": [
        "# Optimización de Hiperparámetros CNN1"
      ]
    },
    {
      "cell_type": "markdown",
      "metadata": {
        "id": "IG_YlyKe98J-"
      },
      "source": [
        "# Kt.engine.Tuner.tuner, CNN1"
      ]
    },
    {
      "cell_type": "code",
      "metadata": {
        "id": "Oudw-A3D1gVq"
      },
      "source": [
        "def hyperband():\n",
        "   return kt.oracles.Hyperband(\n",
        "    objective=kt.Objective(\"f1_score\", direction=\"max\"),\n",
        "    max_epochs= 20,\n",
        "    factor=10,\n",
        "    hyperband_iterations=1,\n",
        "    seed=None)  \n",
        "\n",
        "def bayesian():\n",
        "   return kt.oracles.BayesianOptimization(\n",
        "    objective=kt.Objective(\"f1_score\", direction=\"max\"),\n",
        "    max_trials=20,\n",
        "    seed = None)\n",
        "\n",
        "def random():\n",
        "   return kt.oracles.RandomSearch(\n",
        "    objective=kt.Objective(\"f1_score\", direction=\"max\"),\n",
        "    max_trials=10,\n",
        "    seed=None,\n",
        "    hyperparameters=None,\n",
        "    allow_new_entries=True,\n",
        "    tune_new_entries=True,)"
      ],
      "execution_count": null,
      "outputs": []
    },
    {
      "cell_type": "code",
      "metadata": {
        "colab": {
          "base_uri": "https://localhost:8080/"
        },
        "id": "Wia_26j0-A1m",
        "outputId": "df03c8b9-5a5b-4952-b7bd-b4aad4c1d0a8"
      },
      "source": [
        "class CVTuner(kt.engine.tuner.Tuner):\n",
        "\n",
        "  def run_trial(self, trial, x, y, batch_size=32, epochs=1):\n",
        "    cv = sklearn.model_selection.KFold(5,shuffle = True, random_state = 0)\n",
        "    f1_scores = []\n",
        "    h = 0\n",
        "    for train_indices, test_indices in cv.split(x):\n",
        "        x_train, x_test = x[train_indices], x[test_indices]\n",
        "        y_train, y_test = y[train_indices], y[test_indices]\n",
        "\n",
        "        model = self.hypermodel.build(trial.hyperparameters)\n",
        "\n",
        "        model.fit(x_train, y_train, batch_size=batch_size, epochs=epochs, verbose = 0)\n",
        "        y_pred = model.predict(x_test)\n",
        "        K.clear_session()\n",
        "        y_pred = np.where(y_pred >= 0.5,1,0)\n",
        "        #val_losses.append(model.evaluate(x_test, y_test))\n",
        "        f1 = f1_score(y_test,y_pred,average = 'binary')\n",
        "        f1_scores.append(f1)\n",
        "        print(\"FOLD: {}, : f1_score: {}\".format(h+1,f1))\n",
        "        h+=1\n",
        "\n",
        "    self.oracle.update_trial(trial.trial_id, {'f1_score': np.mean(f1_scores)})\n",
        "    self.save_model(trial.trial_id, model)\n",
        "best_CNN = []\n",
        "\n",
        "#with tf.device('cpu:0'):\n",
        "for batch in [16,32,64]:\n",
        "  cnn1_tuner = CVTuner(\n",
        "  hypermodel=model_builder,\n",
        "  oracle=hyperband(),\n",
        "    directory='CNN1_FINAL_{}'.format(batch+3),\n",
        "    project_name = '1'\n",
        "    )\n",
        "  cnn1_tuner.search(X_train, y_train, batch_size=batch, epochs=5)\n",
        "  best_CNN.append(cnn1_tuner.get_best_hyperparameters(num_trials=1))\n"
      ],
      "execution_count": null,
      "outputs": [
        {
          "output_type": "stream",
          "text": [
            "Trial 23 Complete [00h 00m 33s]\n",
            "f1_score: 0.5322211648534296\n",
            "\n",
            "Best f1_score So Far: 0.602219215558695\n",
            "Total elapsed time: 00h 13m 07s\n",
            "INFO:tensorflow:Oracle triggered exit\n"
          ],
          "name": "stdout"
        }
      ]
    },
    {
      "cell_type": "code",
      "metadata": {
        "id": "-4-WFUYKzoHm"
      },
      "source": [
        "best_hpsss = []\n",
        "BATCH = [16,32,64]\n",
        "for i,hyperparameters in enumerate(best_CNN):\n",
        "  folds_top3 = []\n",
        "  for train_indices, test_indices in cv.split(X_train):\n",
        "      x_train__, x_val__ = X_train[train_indices], X_train[test_indices]\n",
        "      y_train__, y_val__ = y_train[train_indices], y_train[test_indices]\n",
        "\n",
        "      model_top3 = cnn1_tuner.hypermodel.build(hyperparameters[0])\n",
        "      history_top3 = model_top3.fit(x_train__, y_train__, validation_data = (x_val__,y_val__),epochs=50,callbacks= [tf.keras.callbacks.EarlyStopping(monitor='val_accuracy', patience=4)],batch_size=BATCH[i], verbose = 0)\n",
        "\n",
        "      y_pred = predict(model_top3,x_val__)\n",
        "      K.clear_session()\n",
        "      f1 = f1_score(y_val__,y_pred,average='binary')\n",
        "      folds_top3.append(f1)\n",
        "  mean = np.mean(folds_top3)\n",
        "  best_hpsss.append((hyperparameters,mean,BATCH[i]))\n",
        "\n",
        "\n",
        "best_hpss = sorted(best_hpsss,reverse=True, key=lambda best_hpsss: best_hpsss[1])"
      ],
      "execution_count": null,
      "outputs": []
    },
    {
      "cell_type": "code",
      "metadata": {
        "colab": {
          "base_uri": "https://localhost:8080/"
        },
        "id": "y55qckgFPGx5",
        "outputId": "95bf3d4d-6671-48e9-e132-4d6c4197ef2b"
      },
      "source": [
        "#CROSSVALIDATION PARA LOS 3 BATCHSIZES\n",
        "for i in range(3):\n",
        "  print(best_hpss[i][0][0].get('Optimizer'),\n",
        "        best_hpss[i][0][0].get('learning_rate'),\n",
        "        best_hpss[i][0][0].get('dropout'),\n",
        "        best_hpss[i][0][0].get('L1'),\n",
        "        best_hpss[i][0][0].get('L2'),\n",
        "        best_hpss[i][2],\n",
        "        best_hpss[i][1]\n",
        "\n",
        "  )"
      ],
      "execution_count": null,
      "outputs": [
        {
          "output_type": "stream",
          "text": [
            "Adam 0.001 0.5 0.001 0.01 32 0.6108897802990384\n",
            "Adam 0.0001 0.0 0.01 0.001 64 0.5402575145089843\n",
            "Adam 0.01 0.5 0.1 0.001 16 0.39785937042093\n"
          ],
          "name": "stdout"
        }
      ]
    },
    {
      "cell_type": "code",
      "metadata": {
        "colab": {
          "base_uri": "https://localhost:8080/"
        },
        "id": "wxK0CXYt0Sw4",
        "outputId": "e707b9cf-f2a8-4e19-c6ce-207800dca087"
      },
      "source": [
        "best_batch = best_hpss[0][2]\n",
        "Final_f1scores_cnn1 = []\n",
        "Model_CNN1_save = []\n",
        "ACC = []\n",
        "VAL_ACC = []\n",
        "cv = sklearn.model_selection.KFold(5,shuffle = True, random_state = 0)\n",
        "for i in range(0,3): #Encontrar la mejor semilla aleatoria del modelo escogido, considerando los 5 folds del CV, para guardarla y calcular f1_score\n",
        "  \n",
        "\n",
        "  for train_indices, test_indices in cv.split(X_train):\n",
        "      x_train__, x_val__ = X_train[train_indices], X_train[test_indices]\n",
        "      y_train__, y_val__ = y_train[train_indices], y_train[test_indices]\n",
        "      cnn1_model = cnn1_tuner.hypermodel.build(best_hpss[0][0][0])\n",
        "      history = cnn1_model.fit(x_train__, y_train__, validation_data = (x_val__,y_val__),epochs=50,callbacks= [tf.keras.callbacks.EarlyStopping(monitor='val_accuracy', patience=4)],batch_size=best_batch, verbose = 0)\n",
        "      Accuracy = history.history['accuracy'][-1]\n",
        "      val_Accuracy = history.history['val_accuracy'][-1]\n",
        "      y_pred = predict(cnn1_model,x_val__)\n",
        "      K.clear_session()\n",
        "      #Final_f1scores_cnn1.append(f1_score(y_val__,y_pred,average='micro'))\n",
        "      f1 = f1_score(y_val__,y_pred,average='binary')\n",
        "      #print(f1)\n",
        "      Model_CNN1_save.append((f1,Accuracy,val_Accuracy, history,cnn1_model,x_val__,y_val__))\n",
        "\n",
        "      ACC.append(Accuracy)\n",
        "      VAL_ACC.append(val_Accuracy)\n",
        "      Final_f1scores_cnn1.append(f1)\n",
        "  \n",
        " \n",
        "\n",
        "F1 = np.array(Final_f1scores_cnn1)\n",
        "ACC = np.array(ACC)\n",
        "VAL_ACC = np.array(VAL_ACC)\n",
        "\n",
        "\n",
        "mean_train_CNN1 = np.mean(ACC)\n",
        "std_train_CNN1 = np.std(ACC)\n",
        "mean_val_CNN1 = np.mean(VAL_ACC)\n",
        "std_val_CNN1 = np.std(VAL_ACC)\n",
        "mean_f1_CNN1 = np.mean(F1)\n",
        "std_f1_CNN1 = np.std(F1)\n",
        "\n",
        "\n",
        "print(mean_train_CNN1,std_train_CNN1,mean_val_CNN1,std_val_CNN1)\n",
        "print(mean_f1_CNN1,std_f1_CNN1)\n",
        "\n",
        "Model_CNN1_save_sorted = sorted(Model_CNN1_save,reverse=True, key=lambda Model_CNN1_save: Model_CNN1_save[0])\n",
        "Best_model_CNN1_save = Model_CNN1_save_sorted[0]"
      ],
      "execution_count": null,
      "outputs": [
        {
          "output_type": "stream",
          "text": [
            "0.5526320815086365 0.01913487416126432 0.590508743127187 0.012005660902408425\n",
            "0.6110912046898211 0.03903143608968281\n"
          ],
          "name": "stdout"
        }
      ]
    },
    {
      "cell_type": "code",
      "metadata": {
        "colab": {
          "base_uri": "https://localhost:8080/"
        },
        "id": "-nmUkmQgq-wG",
        "outputId": "dc1652b1-3016-47e4-fd06-49221aeb0c38"
      },
      "source": [
        "print(Model_CNN1_save_sorted[0][0])\n",
        "print(Model_CNN1_save_sorted[0][1])\n",
        "print(Model_CNN1_save_sorted[0][2])\n",
        "print(Model_CNN1_save_sorted[0][3])\n",
        "print(Model_CNN1_save_sorted[0][4])\n",
        "print(Model_CNN1_save_sorted[0][5].shape)\n",
        "print(Model_CNN1_save_sorted[0][6].shape)\n",
        "\n",
        "#Model_CNN1_save_sorted = sorted(Model_CNN1_save,reverse=True, key=lambda Model_CNN1_save: Model_CNN1_save[0])\n",
        "#Best_model_CNN1_save = Model_CNN1_save_sorted[0]"
      ],
      "execution_count": null,
      "outputs": [
        {
          "output_type": "stream",
          "text": [
            "0.6691449814126393\n",
            "0.5465788841247559\n",
            "0.5996143817901611\n",
            "<tensorflow.python.keras.callbacks.History object at 0x7fd46d025990>\n",
            "<tensorflow.python.keras.engine.sequential.Sequential object at 0x7fd4648d0a50>\n",
            "(1556, 7, 7, 20)\n",
            "(1556,)\n"
          ],
          "name": "stdout"
        }
      ]
    },
    {
      "cell_type": "markdown",
      "metadata": {
        "id": "fi8RnEMCaq2R"
      },
      "source": [
        "Modelo escogido con el que se obtuvo mejores resultados"
      ]
    },
    {
      "cell_type": "code",
      "metadata": {
        "colab": {
          "base_uri": "https://localhost:8080/",
          "height": 174
        },
        "id": "-dVA2tJ6Uiik",
        "outputId": "8a5cdcb4-5aef-4805-9808-a927eac75d4a"
      },
      "source": [
        "\n",
        "cnn1_model = Model_CNN1_save_sorted[0][4]\n",
        "history = Model_CNN1_save_sorted[0][3]\n",
        "y_pred =predict(cnn1_model,Model_CNN1_save_sorted[0][5])\n",
        "K.clear_session()\n",
        "plot(history = history)\n"
      ],
      "execution_count": null,
      "outputs": [
        {
          "output_type": "display_data",
          "data": {
            "image/png": "[encoded data removed]",
            "text/plain": [
              "<Figure size 1008x144 with 2 Axes>"
            ]
          },
          "metadata": {
            "tags": [],
            "needs_background": "light"
          }
        }
      ]
    },
    {
      "cell_type": "code",
      "metadata": {
        "colab": {
          "base_uri": "https://localhost:8080/",
          "height": 268
        },
        "id": "xLP4nMhNCrsJ",
        "outputId": "5f528ab1-1bc8-4f4f-e791-7abc863f714b"
      },
      "source": [
        "conf_mat = [0,0]\n",
        "conf_mat[0] = confusion_matrix(Model_CNN1_save_sorted[0][6], y_pred)\n",
        "conf_mat[1] = conf_mat[0].T / np.sum(conf_mat[0], axis = 1)\n",
        "# Podemos usar seaborn para graficar esta matriz\n",
        "sns.heatmap(conf_mat[1].T, annot = True)\n",
        "plt.show()"
      ],
      "execution_count": null,
      "outputs": [
        {
          "output_type": "display_data",
          "data": {
            "image/png": "[encoded data removed]",
            "text/plain": [
              "<Figure size 432x288 with 2 Axes>"
            ]
          },
          "metadata": {
            "tags": [],
            "needs_background": "light"
          }
        }
      ]
    },
    {
      "cell_type": "code",
      "metadata": {
        "colab": {
          "base_uri": "https://localhost:8080/"
        },
        "id": "yZSf0jyuyuqQ",
        "outputId": "00302ef8-382b-4e27-9eb5-d8bf0fe24a7f"
      },
      "source": [
        "#Mejor F1 score obtenido corriendo n veces crossvalidation, con el modelo escogido\n",
        "f1_score(Model_CNN1_save_sorted[0][6],y_pred,average = 'binary')"
      ],
      "execution_count": null,
      "outputs": [
        {
          "output_type": "execute_result",
          "data": {
            "text/plain": [
              "0.6691449814126393"
            ]
          },
          "metadata": {
            "tags": []
          },
          "execution_count": 195
        }
      ]
    },
    {
      "cell_type": "markdown",
      "metadata": {
        "id": "1PgPk3_BGxMJ"
      },
      "source": [
        "# f1 score y matriz de confusión CNN1 (TEST)"
      ]
    },
    {
      "cell_type": "code",
      "metadata": {
        "colab": {
          "base_uri": "https://localhost:8080/",
          "height": 265
        },
        "id": "vLfQew3WHo9N",
        "outputId": "1fd6f734-0b42-4e61-dd9d-a61c4ffd96f6"
      },
      "source": [
        "y_pred = predict(cnn1_model,X_test,threshold=0.5)\n",
        "conf_mat = [0,0]\n",
        "conf_mat[0] = confusion_matrix(y_test, y_pred)\n",
        "conf_mat[1] = conf_mat[0].T / np.sum(conf_mat[0], axis = 1)\n",
        "# Podemos usar seaborn para graficar esta matriz\n",
        "sns.heatmap(conf_mat[1].T, annot = True)\n",
        "plt.show()"
      ],
      "execution_count": null,
      "outputs": [
        {
          "output_type": "display_data",
          "data": {
            "image/png": "[encoded data removed]",
            "text/plain": [
              "<Figure size 432x288 with 2 Axes>"
            ]
          },
          "metadata": {
            "tags": [],
            "needs_background": "light"
          }
        }
      ]
    },
    {
      "cell_type": "code",
      "metadata": {
        "colab": {
          "base_uri": "https://localhost:8080/"
        },
        "id": "rmrDRQO2HsQR",
        "outputId": "8f2e0730-cb4f-441b-abeb-495990dc39af"
      },
      "source": [
        "print(f1_score(y_test, y_pred,average='binary'),recall_score(y_test,y_pred,average='binary'),precision_score(y_test,y_pred,average = 'binary'))"
      ],
      "execution_count": null,
      "outputs": [
        {
          "output_type": "stream",
          "text": [
            "0.6540447504302926 0.7802874743326489 0.562962962962963\n"
          ],
          "name": "stdout"
        }
      ]
    },
    {
      "cell_type": "code",
      "metadata": {
        "colab": {
          "base_uri": "https://localhost:8080/",
          "height": 348
        },
        "id": "_yBNWSamorqh",
        "outputId": "069758d6-daa9-473b-8ef6-05c470f072b9"
      },
      "source": [
        "a = np.squeeze(cnn1_model.predict(X_test))\n",
        "b = np.array(a)\n",
        "plt.hist(b)"
      ],
      "execution_count": null,
      "outputs": [
        {
          "output_type": "execute_result",
          "data": {
            "text/plain": [
              "(array([709., 470., 370., 105.,  65.,  68.,  64.,  34.,  48.,  13.]),\n",
              " array([0.49462146, 0.50302505, 0.5114286 , 0.5198322 , 0.52823573,\n",
              "        0.53663933, 0.54504293, 0.5534465 , 0.5618501 , 0.5702536 ,\n",
              "        0.5786572 ], dtype=float32),\n",
              " <a list of 10 Patch objects>)"
            ]
          },
          "metadata": {
            "tags": []
          },
          "execution_count": 235
        },
        {
          "output_type": "display_data",
          "data": {
            "image/png": "[encoded data removed]",
            "text/plain": [
              "<Figure size 432x288 with 1 Axes>"
            ]
          },
          "metadata": {
            "tags": [],
            "needs_background": "light"
          }
        }
      ]
    },
    {
      "cell_type": "markdown",
      "metadata": {
        "id": "DOdWaGlACdyp"
      },
      "source": [
        "# Rangos susceptibilidad CNN1"
      ]
    },
    {
      "cell_type": "code",
      "metadata": {
        "colab": {
          "base_uri": "https://localhost:8080/"
        },
        "id": "QWDK-BxaBT2U",
        "outputId": "0b7588aa-ddc7-4cb9-8ab2-42da4af9cc5f"
      },
      "source": [
        "#Mapeo de susceptibilidad EN BASE A FP Y FN\n",
        "Mapeo = {}\n",
        "for i in range(48,60,1):\n",
        "  i = round(i/100,4)\n",
        "  threshold = round(i,4)\n",
        "  y_pred = predict(cnn1_model,X_test,threshold= threshold)\n",
        "  conf_mat = [0,0]\n",
        "  conf_mat[0] = confusion_matrix(y_test, y_pred)\n",
        "  conf_mat[1] = conf_mat[0].T / np.sum(conf_mat[0], axis = 1)\n",
        "  Mapeo['{}'.format(round(threshold,3))] = (round(conf_mat[1][0][1],2), round(conf_mat[1][1][0],2),round(f1_score(y_test,y_pred,average='binary'),3))\n",
        "print('     FN   FP  f1_score')\n",
        "for i in Mapeo:\n",
        "  print('{}:{}'.format(i,Mapeo[i]))"
      ],
      "execution_count": null,
      "outputs": [
        {
          "output_type": "stream",
          "text": [
            "     FN   FP  f1_score\n",
            "0.48:(0.0, 1.0, 0.667)\n",
            "0.49:(0.0, 1.0, 0.667)\n",
            "0.5:(0.22, 0.61, 0.654)\n",
            "0.51:(0.49, 0.35, 0.552)\n",
            "0.52:(0.7, 0.11, 0.423)\n",
            "0.53:(0.78, 0.06, 0.342)\n",
            "0.54:(0.84, 0.05, 0.262)\n",
            "0.55:(0.92, 0.03, 0.145)\n",
            "0.56:(0.95, 0.02, 0.086)\n",
            "0.57:(0.99, 0.01, 0.016)\n",
            "0.58:(1.0, 0.0, 0.0)\n",
            "0.59:(1.0, 0.0, 0.0)\n"
          ],
          "name": "stdout"
        }
      ]
    },
    {
      "cell_type": "markdown",
      "metadata": {
        "id": "o09tuor9PHwU"
      },
      "source": [
        "# Optimización de Hiperparámetros CNN2 "
      ]
    },
    {
      "cell_type": "markdown",
      "metadata": {
        "id": "TM9sfgP13ALk"
      },
      "source": [
        "# Kt.engine.Tuner.tuner, CNN2"
      ]
    },
    {
      "cell_type": "code",
      "metadata": {
        "id": "jzh1kB9g3Ew-"
      },
      "source": [
        "def hyperband():\n",
        "   return kt.oracles.Hyperband(\n",
        "    objective=kt.Objective(\"f1_score\", direction=\"max\"),\n",
        "    max_epochs= 20,\n",
        "    factor=1,\n",
        "    hyperband_iterations=1,\n",
        "    seed=None)  \n",
        "\n",
        "def bayesian():\n",
        "   return kt.oracles.BayesianOptimization(\n",
        "    objective=kt.Objective(\"f1_score\", direction=\"max\"),\n",
        "    max_trials=20,\n",
        "    seed = None)\n",
        "\n",
        "def random():\n",
        "   return kt.oracles.RandomSearch(\n",
        "    objective=kt.Objective(\"f1_score\", direction=\"max\"),\n",
        "    max_trials=10,\n",
        "    seed=None,\n",
        "    hyperparameters=None,\n",
        "    allow_new_entries=True,\n",
        "    tune_new_entries=True,)"
      ],
      "execution_count": null,
      "outputs": []
    },
    {
      "cell_type": "code",
      "metadata": {
        "id": "s-FZqM9EIkKp",
        "colab": {
          "base_uri": "https://localhost:8080/"
        },
        "outputId": "d618f318-a05e-474c-b7b4-a89ea1edf3b9"
      },
      "source": [
        "class CVTuner(kt.engine.tuner.Tuner):\n",
        "\n",
        "  def run_trial(self, trial, x, y, batch_size=32, epochs=1):\n",
        "    cv = sklearn.model_selection.KFold(5,shuffle = True, random_state = 0)\n",
        "    f1_scores = []\n",
        "    h = 0\n",
        "    for train_indices, test_indices in cv.split(x):\n",
        "        x_train, x_test = x[train_indices], x[test_indices]\n",
        "        y_train, y_test = y[train_indices], y[test_indices]\n",
        "\n",
        "        model = self.hypermodel.build(trial.hyperparameters)\n",
        "\n",
        "        model.fit(x_train, y_train, batch_size=batch_size, epochs=epochs, verbose = 0)\n",
        "        y_pred = model.predict(x_test)\n",
        "        K.clear_session()\n",
        "        y_pred = np.where(y_pred >= 0.5,1,0)\n",
        "        #val_losses.append(model.evaluate(x_test, y_test))\n",
        "        f1 = f1_score(y_test,y_pred,average = 'binary')\n",
        "        f1_scores.append(f1)\n",
        "        print(\"FOLD: {}, : f1_score: {}\".format(h+1,f1))\n",
        "        h+=1\n",
        "\n",
        "    self.oracle.update_trial(trial.trial_id, {'f1_score': np.mean(f1_scores)})\n",
        "    self.save_model(trial.trial_id, model)\n",
        "\n",
        "\n",
        "best_CNN2 = []\n",
        "#with tf.device('cpu:0'):\n",
        "for batch in [16,32,64]:\n",
        "  cnn2_tuner = CVTuner(\n",
        "  hypermodel=model_builder2,\n",
        "  oracle=bayesian(),\n",
        "    directory='CNN2_FINAL_{}'.format(batch),\n",
        "    project_name='1'\n",
        "    )\n",
        "  cnn2_tuner.search(X_train, y_train, batch_size=batch, epochs=5)\n",
        "  best_CNN2.append(cnn2_tuner.get_best_hyperparameters(num_trials=1))"
      ],
      "execution_count": null,
      "outputs": [
        {
          "output_type": "stream",
          "text": [
            "Trial 20 Complete [00h 00m 29s]\n",
            "f1_score: 0.5344136282398368\n",
            "\n",
            "Best f1_score So Far: 0.6065715103766534\n",
            "Total elapsed time: 00h 09m 49s\n",
            "INFO:tensorflow:Oracle triggered exit\n"
          ],
          "name": "stdout"
        }
      ]
    },
    {
      "cell_type": "code",
      "metadata": {
        "id": "Z1ABn6qYBBOZ"
      },
      "source": [
        "best_hpsss = []\n",
        "BATCH = [16,32,64]\n",
        "for i,hyperparameters in enumerate(best_CNN2):\n",
        "  folds_top3 = []\n",
        "  for train_indices, test_indices in cv.split(X_train):\n",
        "      x_train__, x_val__ = X_train[train_indices], X_train[test_indices]\n",
        "      y_train__, y_val__ = y_train[train_indices], y_train[test_indices]\n",
        "\n",
        "      model_top3 = cnn2_tuner.hypermodel.build(hyperparameters[0])\n",
        "      history_top3 = model_top3.fit(x_train__, y_train__, validation_data = (x_val__,y_val__),epochs=50,callbacks= [tf.keras.callbacks.EarlyStopping(monitor='val_accuracy', patience=4)],batch_size=BATCH[i], verbose = 0)\n",
        "\n",
        "      y_pred = predict(model_top3,x_val__)\n",
        "      K.clear_session()\n",
        "      f1 = f1_score(y_val__,y_pred,average='binary')\n",
        "      folds_top3.append(f1)\n",
        "  mean = np.mean(folds_top3)\n",
        "  best_hpsss.append((hyperparameters,mean,BATCH[i]))\n",
        "\n",
        "\n",
        "best_hpss2 = sorted(best_hpsss,reverse=True, key=lambda best_hpsss: best_hpsss[1])"
      ],
      "execution_count": null,
      "outputs": []
    },
    {
      "cell_type": "code",
      "metadata": {
        "id": "7LOijCXAIpBW",
        "colab": {
          "base_uri": "https://localhost:8080/"
        },
        "outputId": "c3efc61f-5cb4-4182-8aa6-deb5ed43cdba"
      },
      "source": [
        "#CROSSVALIDATION PARA LOS 3 BATCHSIZES\n",
        "for i in range(3):\n",
        "  print(best_hpss2[i][0][0].get('Optimizer'),\n",
        "        best_hpss2[i][0][0].get('learning_rate'),\n",
        "        best_hpss2[i][0][0].get('dropout'),\n",
        "        best_hpss2[i][0][0].get('L1'),\n",
        "        best_hpss2[i][0][0].get('L2'),\n",
        "        best_hpss2[i][2],\n",
        "        best_hpss2[i][1]\n",
        "\n",
        "  )"
      ],
      "execution_count": null,
      "outputs": [
        {
          "output_type": "stream",
          "text": [
            "Adam 0.01 0.5 0.001 0.001 32 0.6415642719336343\n",
            "Adam 0.01 0.2 0.001 0.001 16 0.6186086093010514\n",
            "Adam 0.0001 0.5 0.1 0.1 64 0.6010088435407009\n"
          ],
          "name": "stdout"
        }
      ]
    },
    {
      "cell_type": "code",
      "metadata": {
        "id": "QrylJ874C5CX",
        "colab": {
          "base_uri": "https://localhost:8080/"
        },
        "outputId": "670eb026-1bfb-4fd1-ef99-932a6e7118d8"
      },
      "source": [
        "best_batch2 = best_hpss2[0][2]\n",
        "Final_f1scores_cnn2 = []\n",
        "Model_CNN2_save = []\n",
        "ACC = []\n",
        "VAL_ACC = []\n",
        "Final_f1scores_cnn2 = []\n",
        "cv = sklearn.model_selection.KFold(5,shuffle = True, random_state = 0)\n",
        "for i in range(0,3):\n",
        "  folds = []\n",
        "  for train_indices, test_indices in cv.split(X_train):\n",
        "      x_train__, x_val__ = X_train[train_indices], X_train[test_indices]\n",
        "      y_train__, y_val__ = y_train[train_indices], y_train[test_indices]\n",
        "      cnn2_model = cnn2_tuner.hypermodel.build(best_hpss2[0][0][0])\n",
        "      history = cnn2_model.fit(x_train__, y_train__, validation_data = (x_val__,y_val__),epochs=50,batch_size=best_batch2,callbacks= [tf.keras.callbacks.EarlyStopping(monitor='val_accuracy', patience=4)], verbose = 0)\n",
        "      Accuracy = history.history['accuracy'][-1]\n",
        "      val_Accuracy = history.history['val_accuracy'][-1]\n",
        "      y_pred = predict(cnn2_model,x_val__)\n",
        "      K.clear_session()\n",
        "      #Final_f1scores_cnn1.append(f1_score(y_val__,y_pred,average='micro'))\n",
        "      f1 = f1_score(y_val__,y_pred,average='binary')\n",
        "      Model_CNN2_save.append((f1,Accuracy,val_Accuracy, history,cnn2_model,x_val__,y_val__))\n",
        "      \n",
        "      ACC.append(Accuracy)\n",
        "      VAL_ACC.append(val_Accuracy)\n",
        "      Final_f1scores_cnn2.append(f1)\n",
        "  \n",
        " \n",
        "\n",
        "F1 = np.array(Final_f1scores_cnn2)\n",
        "ACC = np.array(ACC)\n",
        "VAL_ACC = np.array(VAL_ACC)\n",
        "\n",
        "\n",
        "mean_train_CNN2 = np.mean(ACC)\n",
        "std_train_CNN2 = np.std(ACC)\n",
        "mean_val_CNN2 = np.mean(VAL_ACC)\n",
        "std_val_CNN2 = np.std(VAL_ACC)\n",
        "mean_f1_CNN2 = np.mean(F1)\n",
        "std_f1_CNN2 = np.std(F1)\n",
        "\n",
        "\n",
        "print(mean_train_CNN2,std_train_CNN2,mean_val_CNN2,std_val_CNN2)\n",
        "print(mean_f1_CNN2,std_f1_CNN2)   \n",
        "\n",
        "Model_CNN2_save_sorted = sorted(Model_CNN2_save,reverse=True, key=lambda Model_CNN2_save: Model_CNN2_save[0])\n",
        "Best_mode2_CNN2_save = Model_CNN2_save_sorted[0]"
      ],
      "execution_count": null,
      "outputs": [
        {
          "output_type": "stream",
          "text": [
            "0.6832647323608398 0.005724390955627348 0.6651270190874735 0.01230415580763949\n",
            "0.6469922911390656 0.015786127413053793\n"
          ],
          "name": "stdout"
        }
      ]
    },
    {
      "cell_type": "code",
      "metadata": {
        "colab": {
          "base_uri": "https://localhost:8080/"
        },
        "id": "QJ1ZPSn03hW5",
        "outputId": "d63f30a5-d6b5-41b7-8480-c5bb4d95c67c"
      },
      "source": [
        "print(Model_CNN2_save_sorted[0][0])\n",
        "print(Model_CNN2_save_sorted[0][1])\n",
        "print(Model_CNN2_save_sorted[0][2])\n",
        "print(Model_CNN2_save_sorted[0][3])\n",
        "print(Model_CNN2_save_sorted[0][4])\n",
        "print(Model_CNN2_save_sorted[0][5].shape)\n",
        "print(Model_CNN2_save_sorted[0][6].shape)\n"
      ],
      "execution_count": null,
      "outputs": [
        {
          "output_type": "stream",
          "text": [
            "0.6782145236508994\n",
            "0.681175708770752\n",
            "0.6895886659622192\n",
            "<tensorflow.python.keras.callbacks.History object at 0x7fd4de6385d0>\n",
            "<tensorflow.python.keras.engine.sequential.Sequential object at 0x7fd4b2768c50>\n",
            "(1556, 7, 7, 20)\n",
            "(1556,)\n"
          ],
          "name": "stdout"
        }
      ]
    },
    {
      "cell_type": "code",
      "metadata": {
        "id": "9EE41nCFJC0p",
        "colab": {
          "base_uri": "https://localhost:8080/",
          "height": 171
        },
        "outputId": "f29bdf57-6641-45e8-a6c0-4dec4a909add"
      },
      "source": [
        "cnn2_model = Model_CNN2_save_sorted[0][4]\n",
        "history = Model_CNN2_save_sorted[0][3]\n",
        "y_pred_2 =predict(cnn2_model,Model_CNN2_save_sorted[0][5])\n",
        "K.clear_session()\n",
        "plot(history = history)"
      ],
      "execution_count": null,
      "outputs": [
        {
          "output_type": "display_data",
          "data": {
            "image/png": "[encoded data removed]",
            "text/plain": [
              "<Figure size 1008x144 with 2 Axes>"
            ]
          },
          "metadata": {
            "tags": [],
            "needs_background": "light"
          }
        }
      ]
    },
    {
      "cell_type": "code",
      "metadata": {
        "id": "mWmrGVQcJJGL",
        "colab": {
          "base_uri": "https://localhost:8080/",
          "height": 265
        },
        "outputId": "302958a8-6fb3-4f0e-a480-52ee9a2b4f36"
      },
      "source": [
        "\n",
        "conf_mat = [0,0]\n",
        "conf_mat[0] = confusion_matrix(Model_CNN2_save_sorted[0][6], y_pred_2)\n",
        "conf_mat[1] = conf_mat[0].T / np.sum(conf_mat[0], axis = 1)\n",
        "# Podemos usar seaborn para graficar esta matriz\n",
        "sns.heatmap(conf_mat[1].T, annot = True)\n",
        "plt.show()"
      ],
      "execution_count": null,
      "outputs": [
        {
          "output_type": "display_data",
          "data": {
            "image/png": "[encoded data removed]",
            "text/plain": [
              "<Figure size 432x288 with 2 Axes>"
            ]
          },
          "metadata": {
            "tags": [],
            "needs_background": "light"
          }
        }
      ]
    },
    {
      "cell_type": "code",
      "metadata": {
        "colab": {
          "base_uri": "https://localhost:8080/"
        },
        "id": "ZzGt_Mh08JVo",
        "outputId": "e4506b7c-2963-4ab8-dce2-7f801582fca7"
      },
      "source": [
        "#Mejor F1 score obtenido corriendo n veces crossvalidation, con el modelo escogido\n",
        "f1_score(Model_CNN2_save_sorted[0][6],y_pred_2,average = 'binary')"
      ],
      "execution_count": null,
      "outputs": [
        {
          "output_type": "execute_result",
          "data": {
            "text/plain": [
              "0.6782145236508994"
            ]
          },
          "metadata": {
            "tags": []
          },
          "execution_count": 74
        }
      ]
    },
    {
      "cell_type": "markdown",
      "metadata": {
        "id": "ddI_z2YYJQAN"
      },
      "source": [
        "# f1 score y matriz de confusión CNN2 (TEST)"
      ]
    },
    {
      "cell_type": "code",
      "metadata": {
        "colab": {
          "base_uri": "https://localhost:8080/",
          "height": 264
        },
        "id": "9R2vZD5I5xTK",
        "outputId": "e929fb9a-cfdf-407d-86b6-1429d7206ff5"
      },
      "source": [
        "y_pred_2 = predict(cnn2_model,X_test,threshold=0.5)\n",
        "conf_mat = [0,0]\n",
        "conf_mat[0] = confusion_matrix(y_test, y_pred_2)\n",
        "conf_mat[1] = conf_mat[0].T / np.sum(conf_mat[0], axis = 1)\n",
        "# Podemos usar seaborn para graficar esta matriz\n",
        "sns.heatmap(conf_mat[1].T, annot = True)\n",
        "plt.show()"
      ],
      "execution_count": null,
      "outputs": [
        {
          "output_type": "display_data",
          "data": {
            "image/png": "[encoded data removed]",
            "text/plain": [
              "<Figure size 432x288 with 2 Axes>"
            ]
          },
          "metadata": {
            "tags": [],
            "needs_background": "light"
          }
        }
      ]
    },
    {
      "cell_type": "code",
      "metadata": {
        "colab": {
          "base_uri": "https://localhost:8080/"
        },
        "id": "wu6qh6MU8pmW",
        "outputId": "1abe7ddb-c241-41c7-cc6c-90db42203aae"
      },
      "source": [
        "print(f1_score(y_test, y_pred_2,average='binary'),recall_score(y_test,y_pred_2,average='binary'),precision_score(y_test,y_pred_2,average = 'binary'))"
      ],
      "execution_count": null,
      "outputs": [
        {
          "output_type": "stream",
          "text": [
            "0.6551724137931035 0.6242299794661191 0.6893424036281179\n"
          ],
          "name": "stdout"
        }
      ]
    },
    {
      "cell_type": "code",
      "metadata": {
        "colab": {
          "base_uri": "https://localhost:8080/",
          "height": 348
        },
        "id": "3U9xGgk9ojRZ",
        "outputId": "bf916853-9e3f-46a2-e063-23496413acc1"
      },
      "source": [
        "a = np.squeeze(cnn2_model.predict(X_test))\n",
        "b = np.array(a)\n",
        "plt.hist(b)"
      ],
      "execution_count": null,
      "outputs": [
        {
          "output_type": "execute_result",
          "data": {
            "text/plain": [
              "(array([121., 244., 345., 268., 249., 244., 126.,  96., 123., 130.]),\n",
              " array([0.1409497 , 0.22308816, 0.30522662, 0.38736507, 0.46950352,\n",
              "        0.551642  , 0.6337804 , 0.7159189 , 0.7980574 , 0.8801958 ,\n",
              "        0.9623343 ], dtype=float32),\n",
              " <a list of 10 Patch objects>)"
            ]
          },
          "metadata": {
            "tags": []
          },
          "execution_count": 258
        },
        {
          "output_type": "display_data",
          "data": {
            "image/png": "[encoded data removed]",
            "text/plain": [
              "<Figure size 432x288 with 1 Axes>"
            ]
          },
          "metadata": {
            "tags": [],
            "needs_background": "light"
          }
        }
      ]
    },
    {
      "cell_type": "code",
      "metadata": {
        "id": "NNiPjCcP7J93"
      },
      "source": [
        "cnn2_model.save_weights('/content/drive/MyDrive/Certamen/Modelo_CNN2_save/CNN2',save_format='tf')#,save_format = 'tf')\n",
        "cnn1_model.save_weights('/content/drive/MyDrive/Certamen/Modelo_CNN1_save/CNN1',save_format='tf')#,save_format = 'tf')"
      ],
      "execution_count": null,
      "outputs": []
    },
    {
      "cell_type": "code",
      "metadata": {
        "colab": {
          "base_uri": "https://localhost:8080/"
        },
        "id": "CawNZjcF1H0H",
        "outputId": "84f8d281-aa01-4e49-a135-7ef7bc1f1e66"
      },
      "source": [
        "#model_7 = create_model()\n",
        "#model_7.load_weights('/content/drive/MyDrive/Certamen/Modelo_CNN2_save/CNN2')"
      ],
      "execution_count": null,
      "outputs": [
        {
          "output_type": "execute_result",
          "data": {
            "text/plain": [
              "<tensorflow.python.training.tracking.util.CheckpointLoadStatus at 0x7ff694f62dd0>"
            ]
          },
          "metadata": {
            "tags": []
          },
          "execution_count": 56
        }
      ]
    },
    {
      "cell_type": "markdown",
      "metadata": {
        "id": "E1dW8L0XCksG"
      },
      "source": [
        "# Rangos susceptibilidad CNN2"
      ]
    },
    {
      "cell_type": "code",
      "metadata": {
        "colab": {
          "base_uri": "https://localhost:8080/"
        },
        "id": "v1iXaabR_QFi",
        "outputId": "e35608b5-d0a7-4370-d81b-520e166b7de3"
      },
      "source": [
        "#Mapeo de susceptibilidad EN BASE A FP Y FN\n",
        "Mapeo = {}\n",
        "for i in range(1,10):\n",
        "  threshold = round(i * 0.1,5)\n",
        "  y_pred_2 = predict(cnn2_model,X_test,threshold= threshold)\n",
        "  conf_mat = [0,0]\n",
        "  conf_mat[0] = confusion_matrix(y_test, y_pred_2)\n",
        "  conf_mat[1] = conf_mat[0].T / np.sum(conf_mat[0], axis = 1)\n",
        "  Mapeo['{}'.format(round(threshold,3))] = (round(conf_mat[1][0][1],2), round(conf_mat[1][1][0],2),round(f1_score(y_test,y_pred_2,average=\"binary\"),2))\n",
        "\n",
        "print('         FN   FP  f1_score')\n",
        "Mapeo"
      ],
      "execution_count": null,
      "outputs": [
        {
          "output_type": "stream",
          "text": [
            "         FN   FP  f1_score\n"
          ],
          "name": "stdout"
        },
        {
          "output_type": "execute_result",
          "data": {
            "text/plain": [
              "{'0.1': (0.0, 1.0, 0.67),\n",
              " '0.2': (0.01, 0.95, 0.67),\n",
              " '0.3': (0.08, 0.73, 0.7),\n",
              " '0.4': (0.24, 0.45, 0.69),\n",
              " '0.5': (0.38, 0.28, 0.66),\n",
              " '0.6': (0.56, 0.13, 0.56),\n",
              " '0.7': (0.7, 0.08, 0.44),\n",
              " '0.8': (0.78, 0.03, 0.36),\n",
              " '0.9': (0.91, 0.0, 0.17)}"
            ]
          },
          "metadata": {
            "tags": []
          },
          "execution_count": 356
        }
      ]
    },
    {
      "cell_type": "markdown",
      "metadata": {
        "id": "73YbOt2sGjW-"
      },
      "source": [
        "# Generación del dataset MLP"
      ]
    },
    {
      "cell_type": "markdown",
      "metadata": {
        "id": "jRpZQOVJfI8l"
      },
      "source": [
        "# Separación en set de testeo y set de entrenamiento"
      ]
    },
    {
      "cell_type": "markdown",
      "metadata": {
        "id": "9B_qA-IR0gh3"
      },
      "source": [
        "Recorte en el centroide de los datos originales de testeo"
      ]
    },
    {
      "cell_type": "code",
      "metadata": {
        "id": "UmT1slWVKQzm"
      },
      "source": [
        "X_test_2 = X_test[:,centroid,centroid,:]\n",
        "X_train_2 = X_test[:,centroid,centroid,:]"
      ],
      "execution_count": null,
      "outputs": []
    },
    {
      "cell_type": "code",
      "metadata": {
        "colab": {
          "base_uri": "https://localhost:8080/"
        },
        "id": "LiJel6s0jbVn",
        "outputId": "18191ece-dec1-49a0-f5cb-08116108d8bc"
      },
      "source": [
        "groupby(y_train)\n",
        "groupby(y_test)\n",
        "print(X_train_2.shape,X_test_2.shape)"
      ],
      "execution_count": null,
      "outputs": [
        {
          "output_type": "stream",
          "text": [
            "fire: 3890, no fire: 3892\n",
            "fire: 974, no fire: 972\n",
            "(1946, 20) (1946, 20)\n"
          ],
          "name": "stdout"
        }
      ]
    },
    {
      "cell_type": "markdown",
      "metadata": {
        "id": "mZ-H6HsKf8tm"
      },
      "source": [
        "# *5 Fold Cross-validation"
      ]
    },
    {
      "cell_type": "code",
      "metadata": {
        "id": "0h2QOo4ev4aD"
      },
      "source": [
        "cv = sklearn.model_selection.KFold(5,shuffle = True, random_state = 0)\n",
        "\n",
        "h = 1\n",
        "Cross_2 = {}\n",
        "for train_indices, test_indices in cv.split(X_train_2):\n",
        "    x_train_, x_val_ = X_train_2[train_indices], X_train_2[test_indices]\n",
        "    y_train_, y_val_ = y_train[train_indices], y_train[test_indices]\n",
        "    Cross_2['Fold_{}'.format(h)] = x_train_, x_val_ ,y_train_, y_val_\n",
        "    h += 1\n",
        "\n",
        "X_train_2_1,X_val_2_1,y_train_2_1,y_val_2_1 = Cross_2['Fold_1']\n",
        "X_train_2_2,X_val_2_2,y_train_2_2,y_val_2_2 = Cross_2['Fold_2']\n",
        "X_train_2_3,X_val_2_3,y_train_2_3,y_val_2_3 = Cross_2['Fold_3']\n",
        "X_train_2_4,X_val_2_4,y_train_2_4,y_val_2_4 = Cross_2['Fold_4']\n",
        "X_train_2_5,X_val_2_5,y_train_2_5,y_val_2_5 = Cross_2['Fold_5']"
      ],
      "execution_count": null,
      "outputs": []
    },
    {
      "cell_type": "markdown",
      "metadata": {
        "id": "8Lh7H3SNk8v3"
      },
      "source": [
        "# *Modelo MLP"
      ]
    },
    {
      "cell_type": "code",
      "metadata": {
        "id": "4XSxMGGV-BWb"
      },
      "source": [
        "XX_train, yy_train,XX_val, yy_val = X_train_2_1, y_train_2_1, X_val_2_1, y_val_2_1  \n",
        "MLP_model = keras.models.Sequential()\n",
        "L1,L2 = 0,0\n",
        "do = 0\n",
        "l_r = 0.001\n",
        "batch = 64\n",
        "epoch = 100\n",
        "opt = Adam1(lr_schedulee = lr_schedule(l_r))\n",
        "\n",
        "  \n",
        "# Capas fully connected\n",
        "MLP_model.add(keras.layers.InputLayer(input_shape=(X_train_2.shape[1],)))\n",
        "#MLP_model.add(BatchNormalization())\n",
        "#FC1\n",
        "MLP_model.add(keras.layers.Dense(64,kernel_regularizer=L1L2(L1,L2),activation='relu'))\n",
        "MLP_model.add(Dropout(do))\n",
        "#FC2\n",
        "MLP_model.add(keras.layers.Dense(64, kernel_regularizer=L1L2(L1,L2),activation='relu'))\n",
        "MLP_model.add(Dropout(do))\n",
        "\n",
        "MLP_model.add(keras.layers.Dense(64, kernel_regularizer=L1L2(L1,L2),activation='relu'))\n",
        "MLP_model.add(Dropout(do))\n",
        "\n",
        "#Sigmoid\n",
        "MLP_model.add(keras.layers.Dense(1,activation = 'sigmoid'))\n",
        "\n",
        "#MLP_model.summary()"
      ],
      "execution_count": null,
      "outputs": []
    },
    {
      "cell_type": "code",
      "metadata": {
        "id": "T5EMRUFu3YT9"
      },
      "source": [
        "#path = '/content/drive/MyDrive/Ayudantia 2/figs/LRtf.png'\n",
        "# Exportamos un diagrama\n",
        "#tf.keras.utils.plot_model(MLP_model, path, show_shapes=True)"
      ],
      "execution_count": null,
      "outputs": []
    },
    {
      "cell_type": "code",
      "metadata": {
        "id": "5WoqEklm985H"
      },
      "source": [
        "#with tf.device('cpu:0'): # Esta linea esta solo porque no tengo configurada mi GPU\n",
        "MLP_model.compile(optimizer=opt,\n",
        "            loss='binary_crossentropy',#tf.keras.losses.BinaryCrossentropy(from_logits=True),\n",
        "            metrics=['accuracy'])\n",
        "\n",
        "history_3 = MLP_model.fit(XX_train, yy_train, epochs=epoch, batch_size=batch,\n",
        "                    verbose = 0,validation_data=(XX_val, yy_val),callbacks= [tf.keras.callbacks.EarlyStopping(monitor='val_accuracy', patience=8)])\n",
        "#callbacks= [tf.keras.callbacks.EarlyStopping(monitor='val_loss', patience=8)]"
      ],
      "execution_count": null,
      "outputs": []
    },
    {
      "cell_type": "code",
      "metadata": {
        "colab": {
          "base_uri": "https://localhost:8080/",
          "height": 171
        },
        "id": "Jxl-hYSvzcz4",
        "outputId": "b3edb576-1f99-441f-e317-b7a5d72f0815"
      },
      "source": [
        "plot(history = history_3)"
      ],
      "execution_count": null,
      "outputs": [
        {
          "output_type": "display_data",
          "data": {
            "image/png": "[encoded data removed]",
            "text/plain": [
              "<Figure size 1008x144 with 2 Axes>"
            ]
          },
          "metadata": {
            "tags": [],
            "needs_background": "light"
          }
        }
      ]
    },
    {
      "cell_type": "code",
      "metadata": {
        "colab": {
          "base_uri": "https://localhost:8080/",
          "height": 265
        },
        "id": "4k6rdPAzx3wC",
        "outputId": "ef62d0b8-62f8-4f32-9538-c48027e13972"
      },
      "source": [
        "y_pred_3 = predict(MLP_model,XX_val)\n",
        "conf_mat_2 = [0,0]\n",
        "conf_mat_2[0] = confusion_matrix(yy_val, y_pred_3)\n",
        "conf_mat_2[1] = conf_mat_2[0].T / np.sum(conf_mat_2[0], axis = 1)\n",
        "# Podemos usar seaborn para graficar esta matriz\n",
        "sns.heatmap(conf_mat_2[1].T, annot = True)\n",
        "plt.show()"
      ],
      "execution_count": null,
      "outputs": [
        {
          "output_type": "display_data",
          "data": {
            "image/png": "[encoded data removed]",
            "text/plain": [
              "<Figure size 432x288 with 2 Axes>"
            ]
          },
          "metadata": {
            "tags": [],
            "needs_background": "light"
          }
        }
      ]
    },
    {
      "cell_type": "code",
      "metadata": {
        "colab": {
          "base_uri": "https://localhost:8080/"
        },
        "id": "l0cJAhZ-yMkW",
        "outputId": "16d46366-fd3a-4cb5-e584-76763dd5a395"
      },
      "source": [
        "f1_score(yy_val, y_pred_3,average='binary')"
      ],
      "execution_count": null,
      "outputs": [
        {
          "output_type": "execute_result",
          "data": {
            "text/plain": [
              "0.6311300639658849"
            ]
          },
          "metadata": {
            "tags": []
          },
          "execution_count": 88
        }
      ]
    },
    {
      "cell_type": "code",
      "metadata": {
        "colab": {
          "base_uri": "https://localhost:8080/",
          "height": 348
        },
        "id": "VQjecB1u0L9K",
        "outputId": "7f79fb24-42ce-4871-dd97-850b15712ab4"
      },
      "source": [
        "plt.hist(np.array(MLP_model.predict(X_test_2)))"
      ],
      "execution_count": null,
      "outputs": [
        {
          "output_type": "execute_result",
          "data": {
            "text/plain": [
              "(array([145., 438., 477., 546., 210.,  51.,  14.,  14.,  27.,  24.]),\n",
              " array([0.49443504, 0.5006415 , 0.506848  , 0.51305443, 0.5192609 ,\n",
              "        0.52546734, 0.5316738 , 0.53788024, 0.5440867 , 0.55029315,\n",
              "        0.5564996 ], dtype=float32),\n",
              " <a list of 10 Patch objects>)"
            ]
          },
          "metadata": {
            "tags": []
          },
          "execution_count": 234
        },
        {
          "output_type": "display_data",
          "data": {
            "image/png": "[encoded data removed]",
            "text/plain": [
              "<Figure size 432x288 with 1 Axes>"
            ]
          },
          "metadata": {
            "tags": [],
            "needs_background": "light"
          }
        }
      ]
    },
    {
      "cell_type": "markdown",
      "metadata": {
        "id": "v-tCHOJzJUrf"
      },
      "source": [
        "# Modelo MLP Hypermodel"
      ]
    },
    {
      "cell_type": "code",
      "metadata": {
        "id": "TFbKVgs5VIHM"
      },
      "source": [
        "def model_builder4(hp):\n",
        "\n",
        "  MLP_model = keras.models.Sequential()\n",
        "\n",
        "\n",
        "  #Opciones de Hiperparámetros\n",
        "  L_r = hp.Choice('learning_rate', values=[1e-1,1e-2,1e-3, 1e-4])\n",
        "\n",
        "  #do = hp.Choice('dropout',[0.0,0.2,0.5]) #Dropout_rate \n",
        "  #L1 = hp.Choice('L1',[0e-1,1e-1,1e-2,1e-3])  #Kernel_regularizers_L1 \n",
        "  #L2 = hp.Choice('L2',[0e-1,1e-1,1e-2,1e-3])  #Kernel_regularizers_L2\n",
        "  Opt = hp.Choice('Optimizer',['Adam','SGD'])  \n",
        "\n",
        "    \n",
        "  # Capas fully connected\n",
        "  MLP_model.add(keras.layers.InputLayer(input_shape=(X_train_2.shape[1],)))\n",
        "  #MLP_model.add(BatchNormalization())\n",
        "  #FC1\n",
        "  MLP_model.add(keras.layers.Dense(64,activation='relu'))\n",
        "  #MLP_model.add(Dropout(do))\n",
        "  #FC2\n",
        "  MLP_model.add(keras.layers.Dense(64,activation='relu'))\n",
        "  #MLP_model.add(Dropout(do))\n",
        "  #FC3\n",
        "  MLP_model.add(keras.layers.Dense(64,activation='relu'))\n",
        "  #MLP_model.add(Dropout(do))\n",
        "  \n",
        "  #Sigmoid\n",
        "  MLP_model.add(keras.layers.Dense(1,activation = 'sigmoid'))\n",
        "  \n",
        "  if Opt == 'Adam': #Adam\n",
        "    Optimizer = Adam1(lr_schedulee = lr_schedule(L_r))\n",
        "  else: #SGD\n",
        "    Optimizer = SGD(lr_schedulee = lr_schedule(L_r))\n",
        "\n",
        "  MLP_model.compile(optimizer= Optimizer,\n",
        "            loss='binary_crossentropy',#tf.keras.losses.BinaryCrossentropy(from_logits=True),\n",
        "            metrics=['accuracy'])\n",
        "\n",
        "  return MLP_model"
      ],
      "execution_count": null,
      "outputs": []
    },
    {
      "cell_type": "markdown",
      "metadata": {
        "id": "gpRrFJeOXSJZ"
      },
      "source": [
        "# Modelo MLP Hypermodel, propuesta"
      ]
    },
    {
      "cell_type": "code",
      "metadata": {
        "id": "ZXDCXgUfKwvV"
      },
      "source": [
        "def model_builder5(hp):\n",
        "\n",
        "  MLP_model = keras.models.Sequential()\n",
        "  '''\n",
        "  Trial 139 Complete [00h 00m 09s]\n",
        "  f1_score: 0.3568817512699678\n",
        "\n",
        "  Best f1_score So Far: 0.6624144025745778\n",
        "  Total elapsed time: 00h 25m 06s\n",
        "\n",
        "  Search: Running Trial #140\n",
        "\n",
        "  Hyperparameter    |Value             |Best Value So Far \n",
        "  learning_rate     |0.0001            |0.1               \n",
        "  dropout           |0.2               |0.2               \n",
        "  L1                |0.001             |0.1               \n",
        "  L2                |0                 |0.01              \n",
        "  Optimizer         |SGD               |Adam              \n",
        "  Layers            |5                 |5                 \n",
        "  Neuronas          |120               |120               \n",
        "  tuner/epochs      |20                |3                 \n",
        "  tuner/initial_e...|0                 |2                 \n",
        "  tuner/bracket     |0                 |4                 \n",
        "  tuner/round       |0                 |1                 \n",
        "  '''\n",
        "\n",
        "  #Opciones de Hiperparámetros\n",
        "  L_r = hp.Choice('learning_rate', values=[1e-1,1e-2,1e-3,1e-4])\n",
        "\n",
        "  do = hp.Choice('dropout',[0.0,0.2,0.5]) #Dropout_rate \n",
        "  L1 = hp.Choice('L1',[0e-1,1e-1,1e-2,1e-3])  #Kernel_regularizers_L1 \n",
        "  L2 = hp.Choice('L2',[0e-1,1e-1,1e-2,1e-3])  #Kernel_regularizers_L2\n",
        "  Opt = hp.Choice('Optimizer',['Adam','SGD'])  \n",
        "  layers = hp.Choice('Layers',[5,6])\n",
        "  Neuronas = hp.Choice('Neuronas',[32,64,120])\n",
        "    \n",
        "  # Capas fully connected\n",
        "  MLP_model.add(keras.layers.InputLayer(input_shape=(X_train_2.shape[1],)))\n",
        "  MLP_model.add(BatchNormalization())\n",
        "\n",
        "  #FC1\n",
        "  for i in range(layers):\n",
        "    MLP_model.add(keras.layers.Dense(Neuronas,activation='relu'))\n",
        "    MLP_model.add(Dropout(do))\n",
        "  \n",
        "  #Sigmoid\n",
        "  MLP_model.add(keras.layers.Dense(1,activation = 'sigmoid'))\n",
        "  \n",
        "  if Opt == 'Adam': #Adam\n",
        "    Optimizer = Adam1(lr_schedulee = lr_schedule(L_r))\n",
        "  else: #SGD\n",
        "    Optimizer = SGD(lr_schedulee = lr_schedule(L_r))\n",
        "  \n",
        "\n",
        "  MLP_model.compile(optimizer= Optimizer,\n",
        "            loss='binary_crossentropy',#tf.keras.losses.BinaryCrossentropy(from_logits=True),\n",
        "            metrics=['accuracy'])\n",
        "\n",
        "  return MLP_model"
      ],
      "execution_count": null,
      "outputs": []
    },
    {
      "cell_type": "markdown",
      "metadata": {
        "id": "9vD5j-EHJeFB"
      },
      "source": [
        "# Optimización de Hiperparámetros MLP"
      ]
    },
    {
      "cell_type": "markdown",
      "metadata": {
        "id": "4ml-P3G3JWdW"
      },
      "source": [
        "# Kt.engine.Tuner.tuner, MLP"
      ]
    },
    {
      "cell_type": "code",
      "metadata": {
        "id": "sKsISMhoIrrD"
      },
      "source": [
        "def hyperband():\n",
        "   return kt.oracles.Hyperband(\n",
        "    objective=kt.Objective(\"f1_score\", direction=\"max\"),\n",
        "    max_epochs= 20,\n",
        "    factor=2,\n",
        "    hyperband_iterations=1,\n",
        "    seed=None)  \n",
        "\n",
        "def bayesian():\n",
        "   return kt.oracles.BayesianOptimization(\n",
        "    objective=kt.Objective(\"f1_score\", direction=\"max\"),\n",
        "    max_trials=20,\n",
        "    seed = None)\n",
        "\n",
        "def random():\n",
        "   return kt.oracles.RandomSearch(\n",
        "    objective=kt.Objective(\"f1_score\", direction=\"max\"),\n",
        "    max_trials=10,\n",
        "    seed=None,\n",
        "    hyperparameters=None,\n",
        "    allow_new_entries=True,\n",
        "    tune_new_entries=True,)"
      ],
      "execution_count": null,
      "outputs": []
    },
    {
      "cell_type": "code",
      "metadata": {
        "id": "oIA_pdGwQa9e",
        "colab": {
          "base_uri": "https://localhost:8080/"
        },
        "outputId": "796dcb68-888d-4726-f27c-4144a1a28f8c"
      },
      "source": [
        "class CVTuner2(kt.engine.tuner.Tuner):\n",
        "\n",
        "  def run_trial(self, trial, x, y, batch_size=32, epochs=1):\n",
        "    cv = sklearn.model_selection.KFold(5,shuffle = True, random_state = 0)\n",
        "    f1_scores = []\n",
        "    h = 0\n",
        "    for train_indices, test_indices in cv.split(x):\n",
        "        x_train, x_test = x[train_indices], x[test_indices]\n",
        "        y_train, y_test = y[train_indices], y[test_indices]\n",
        "\n",
        "        model = self.hypermodel.build(trial.hyperparameters)\n",
        "\n",
        "        model.fit(x_train, y_train, batch_size=batch_size, epochs=epochs, verbose = 0)\n",
        "        y_pred = model.predict(x_test)\n",
        "        K.clear_session()\n",
        "        y_pred = np.where(y_pred >= 0.5,1,0)\n",
        "        #val_losses.append(model.evaluate(x_test, y_test))\n",
        "        f1 = f1_score(y_test,y_pred,average = 'binary')\n",
        "        f1_scores.append(f1)\n",
        "        print(\"FOLD: {}, : f1_score: {}\".format(h+1,f1))\n",
        "        h+=1\n",
        "\n",
        "    self.oracle.update_trial(trial.trial_id, {'f1_score': np.mean(f1_scores)})\n",
        "    self.save_model(trial.trial_id, model)\n",
        "\n",
        "best_MLP = []\n",
        "#with tf.device('cpu:0'):\n",
        "for batch in [16,32,64]:\n",
        "  MLP_tuner = CVTuner2(\n",
        "  hypermodel=model_builder4,\n",
        "  oracle=hyperband(),\n",
        "    directory='MLP_FINAL_{}'.format(batch+1),\n",
        "    project_name='1'\n",
        "    )\n",
        "  MLP_tuner.search(X_train_2, y_train, batch_size=batch, epochs=5)\n",
        "  best_MLP.append(MLP_tuner.get_best_hyperparameters(num_trials=1))"
      ],
      "execution_count": null,
      "outputs": [
        {
          "output_type": "stream",
          "text": [
            "Trial 8 Complete [00h 00m 05s]\n",
            "f1_score: 0.4415620048713557\n",
            "\n",
            "Best f1_score So Far: 0.5498416033283859\n",
            "Total elapsed time: 00h 00m 47s\n",
            "INFO:tensorflow:Oracle triggered exit\n"
          ],
          "name": "stdout"
        }
      ]
    },
    {
      "cell_type": "code",
      "metadata": {
        "id": "7IT0E3GVTXQ5"
      },
      "source": [
        "best_hpsss = []\n",
        "BATCH = [16,32,64]\n",
        "for i,hyperparameters in enumerate(best_MLP):\n",
        "  folds_top3 = []\n",
        "  for train_indices, test_indices in cv.split(X_train_2):\n",
        "      x_train__, x_val__ = X_train_2[train_indices], X_train_2[test_indices]\n",
        "      y_train__, y_val__ = y_train[train_indices], y_train[test_indices]\n",
        "\n",
        "      model_top3 = MLP_tuner.hypermodel.build(hyperparameters[0])\n",
        "      history_top3 = model_top3.fit(x_train__, y_train__, validation_data = (x_val__,y_val__),epochs=50,callbacks= [tf.keras.callbacks.EarlyStopping(monitor='val_accuracy', patience=4)],batch_size=BATCH[i], verbose = 0)\n",
        "\n",
        "      y_pred = predict(model_top3,x_val__)\n",
        "      K.clear_session()\n",
        "      f1 = f1_score(y_val__,y_pred,average='binary')\n",
        "      folds_top3.append(f1)\n",
        "  mean = np.mean(folds_top3)\n",
        "  best_hpsss.append((hyperparameters,mean,BATCH[i]))\n",
        "\n",
        "\n",
        "best_hpss3 = sorted(best_hpsss,reverse=True, key=lambda best_hpsss: best_hpsss[1])"
      ],
      "execution_count": null,
      "outputs": []
    },
    {
      "cell_type": "code",
      "metadata": {
        "colab": {
          "base_uri": "https://localhost:8080/"
        },
        "id": "1YrwPq66Tv2D",
        "outputId": "a40bbfe6-dd09-4080-c697-a0e88f26d739"
      },
      "source": [
        "#CROSSVALIDATION PARA LOS 3 BATCHSIZES\n",
        "for i in range(3):\n",
        "  print(best_hpss3[i][0][0].get('Optimizer'),\n",
        "        best_hpss3[i][0][0].get('learning_rate'),\n",
        "        #best_hpss3[i][0][0].get('dropout'),\n",
        "        #best_hpss3[i][0][0].get('L1'),\n",
        "        #best_hpss3[i][0][0].get('L2'),\n",
        "        best_hpss3[i][2],\n",
        "        best_hpss3[i][1]\n",
        "\n",
        "  )"
      ],
      "execution_count": null,
      "outputs": [
        {
          "output_type": "stream",
          "text": [
            "Adam 0.01 16 0.5552404641776031\n",
            "Adam 0.01 64 0.5546099154851701\n",
            "Adam 0.0001 32 0.46621857485260376\n"
          ],
          "name": "stdout"
        }
      ]
    },
    {
      "cell_type": "code",
      "metadata": {
        "colab": {
          "base_uri": "https://localhost:8080/"
        },
        "id": "LSmkO6wzTz-o",
        "outputId": "18844094-561d-407c-aa24-f8e22b845b88"
      },
      "source": [
        "best_batch3 = best_hpss3[0][2]\n",
        "Final_f1scores_MLP = []\n",
        "Model_MLP_save = []\n",
        "ACC = []\n",
        "VAL_ACC = []\n",
        "\n",
        "\n",
        "cv = sklearn.model_selection.KFold(5,shuffle = True, random_state = 0)\n",
        "for i in range(0,3):\n",
        "\n",
        "  for train_indices, test_indices in cv.split(X_train_2):\n",
        "      x_train__, x_val__ = X_train_2[train_indices], X_train_2[test_indices]\n",
        "      y_train__, y_val__ = y_train[train_indices], y_train[test_indices]\n",
        "      MLP_model = MLP_tuner.hypermodel.build(best_hpss3[0][0][0])\n",
        "      history = MLP_model.fit(x_train__, y_train__, validation_data = (x_val__,y_val__),epochs=50,batch_size=best_batch3,callbacks= [tf.keras.callbacks.EarlyStopping(monitor='val_accuracy', patience=4)], verbose = 0)\n",
        "      Accuracy = history.history['accuracy'][-1]\n",
        "      val_Accuracy = history.history['val_accuracy'][-1]\n",
        "      y_pred = predict(MLP_model,x_val__)\n",
        "      K.clear_session()\n",
        "      f1 = f1_score(y_val__,y_pred,average='binary')\n",
        "      Model_MLP_save.append((f1,Accuracy,val_Accuracy, history,MLP_model,x_val__,y_val__))\n",
        "\n",
        "      ACC.append(Accuracy)\n",
        "      VAL_ACC.append(val_Accuracy)\n",
        "      Final_f1scores_MLP.append(f1)\n",
        "  \n",
        " \n",
        "\n",
        "F1 = np.array(Final_f1scores_MLP)\n",
        "ACC = np.array(ACC)\n",
        "VAL_ACC = np.array(VAL_ACC)\n",
        "\n",
        "\n",
        "mean_train_MLP = np.mean(ACC)\n",
        "std_train_MLP = np.std(ACC)\n",
        "mean_val_MLP = np.mean(VAL_ACC)\n",
        "std_val_MLP = np.std(VAL_ACC)\n",
        "mean_f1_MLP = np.mean(F1)\n",
        "std_f1_MLP = np.std(F1)\n",
        "\n",
        "\n",
        "print(mean_train_MLP,std_train_MLP,mean_val_MLP,std_val_MLP)\n",
        "print(mean_f1_MLP,std_f1_MLP)   \n",
        "\n",
        "\n",
        "Model_MLP_save_sorted = sorted(Model_MLP_save,reverse=True, key=lambda Model_MLP_save: Model_MLP_save[0])\n",
        "Best_model_MLP_save = Model_MLP_save_sorted[0]"
      ],
      "execution_count": null,
      "outputs": [
        {
          "output_type": "stream",
          "text": [
            "0.5426921010017395 0.011738928469482875 0.5246553798516591 0.03563523292499875\n",
            "0.5501906853572155 0.05303072251722668\n"
          ],
          "name": "stdout"
        }
      ]
    },
    {
      "cell_type": "code",
      "metadata": {
        "colab": {
          "base_uri": "https://localhost:8080/"
        },
        "id": "vfxeRki4T0K1",
        "outputId": "1d722bc0-5893-4cde-8bda-9a9e4521fad5"
      },
      "source": [
        "print(Model_MLP_save_sorted[0][0])\n",
        "print(Model_MLP_save_sorted[0][1])\n",
        "print(Model_MLP_save_sorted[0][2])\n",
        "print(Model_MLP_save_sorted[0][3])\n",
        "print(Model_MLP_save_sorted[0][4])\n",
        "print(Model_MLP_save_sorted[0][5].shape)\n",
        "print(Model_MLP_save_sorted[0][6].shape)\n"
      ],
      "execution_count": null,
      "outputs": [
        {
          "output_type": "stream",
          "text": [
            "0.6300366300366301\n",
            "0.51606684923172\n",
            "0.482051283121109\n",
            "<tensorflow.python.keras.callbacks.History object at 0x7fd499cd7410>\n",
            "<tensorflow.python.keras.engine.sequential.Sequential object at 0x7fd4b28077d0>\n",
            "(390, 20)\n",
            "(390,)\n"
          ],
          "name": "stdout"
        }
      ]
    },
    {
      "cell_type": "code",
      "metadata": {
        "colab": {
          "base_uri": "https://localhost:8080/",
          "height": 171
        },
        "id": "dbGYAVfkT0is",
        "outputId": "ff77fad9-a290-49ca-d13a-e240d4ae0507"
      },
      "source": [
        "MLP_model = Model_MLP_save_sorted[0][4]\n",
        "history = Model_MLP_save_sorted[0][3]\n",
        "y_pred_2 =predict(MLP_model,Model_MLP_save_sorted[0][5])\n",
        "K.clear_session()\n",
        "plot(history = history)"
      ],
      "execution_count": null,
      "outputs": [
        {
          "output_type": "display_data",
          "data": {
            "image/png": "[encoded data removed]",
            "text/plain": [
              "<Figure size 1008x144 with 2 Axes>"
            ]
          },
          "metadata": {
            "tags": [],
            "needs_background": "light"
          }
        }
      ]
    },
    {
      "cell_type": "markdown",
      "metadata": {
        "id": "Ikun-UIRVNt6"
      },
      "source": [
        "# f1 score y matriz de confusión MLP (TEST)"
      ]
    },
    {
      "cell_type": "code",
      "metadata": {
        "colab": {
          "base_uri": "https://localhost:8080/",
          "height": 265
        },
        "id": "whNjpbwTUJLX",
        "outputId": "ccbe7685-d80c-4a27-94ee-3ff393589856"
      },
      "source": [
        "y_pred_3 = predict(MLP_model,X_test_2, threshold = 0.506)\n",
        "conf_mat = [0,0]\n",
        "conf_mat[0] = confusion_matrix(y_test, y_pred_3)\n",
        "conf_mat[1] = conf_mat[0].T / np.sum(conf_mat[0], axis = 1)\n",
        "# Podemos usar seaborn para graficar esta matriz\n",
        "sns.heatmap(conf_mat[1].T, annot = True)\n",
        "plt.show()"
      ],
      "execution_count": null,
      "outputs": [
        {
          "output_type": "display_data",
          "data": {
            "image/png": "[encoded data removed]",
            "text/plain": [
              "<Figure size 432x288 with 2 Axes>"
            ]
          },
          "metadata": {
            "tags": [],
            "needs_background": "light"
          }
        }
      ]
    },
    {
      "cell_type": "code",
      "metadata": {
        "colab": {
          "base_uri": "https://localhost:8080/"
        },
        "id": "xFe0f6bXUJbi",
        "outputId": "ed0e57c9-a995-44ea-c7f4-9bcd9b64e167"
      },
      "source": [
        "print(f1_score(y_test, y_pred_3,average='binary'),recall_score(y_test,y_pred_3,average='binary'),precision_score(y_test,y_pred_3,average = 'binary'))"
      ],
      "execution_count": null,
      "outputs": [
        {
          "output_type": "stream",
          "text": [
            "0.609271523178808 0.75564681724846 0.5104022191400832\n"
          ],
          "name": "stdout"
        }
      ]
    },
    {
      "cell_type": "code",
      "metadata": {
        "id": "GsHadApyUJpn"
      },
      "source": [
        "a = np.squeeze(MLP_model.predict(X_test_2))"
      ],
      "execution_count": null,
      "outputs": []
    },
    {
      "cell_type": "code",
      "metadata": {
        "colab": {
          "base_uri": "https://localhost:8080/"
        },
        "id": "bsKgFvilSMe1",
        "outputId": "78052b32-ec4d-41e1-b1d7-cb21b91101e5"
      },
      "source": [
        "b = np.array(a)\n",
        "print(np.max(b),np.min(b),np.std(b))"
      ],
      "execution_count": null,
      "outputs": [
        {
          "output_type": "stream",
          "text": [
            "0.5564996 0.49443504 0.010040729\n"
          ],
          "name": "stdout"
        }
      ]
    },
    {
      "cell_type": "code",
      "metadata": {
        "colab": {
          "base_uri": "https://localhost:8080/",
          "height": 348
        },
        "id": "BowunooWSYlb",
        "outputId": "14a443fb-20e3-4ac3-e2aa-a55784b8e811"
      },
      "source": [
        "plt.hist(b)"
      ],
      "execution_count": null,
      "outputs": [
        {
          "output_type": "execute_result",
          "data": {
            "text/plain": [
              "(array([145., 438., 477., 546., 210.,  51.,  14.,  14.,  27.,  24.]),\n",
              " array([0.49443504, 0.5006415 , 0.506848  , 0.51305443, 0.5192609 ,\n",
              "        0.52546734, 0.5316738 , 0.53788024, 0.5440867 , 0.55029315,\n",
              "        0.5564996 ], dtype=float32),\n",
              " <a list of 10 Patch objects>)"
            ]
          },
          "metadata": {
            "tags": []
          },
          "execution_count": 105
        },
        {
          "output_type": "display_data",
          "data": {
            "image/png": "[encoded data removed]",
            "text/plain": [
              "<Figure size 432x288 with 1 Axes>"
            ]
          },
          "metadata": {
            "tags": [],
            "needs_background": "light"
          }
        }
      ]
    },
    {
      "cell_type": "markdown",
      "metadata": {
        "id": "3Y5eqMvdIwgB"
      },
      "source": [
        "# Rangos susceptibilidad MLP"
      ]
    },
    {
      "cell_type": "code",
      "metadata": {
        "colab": {
          "base_uri": "https://localhost:8080/"
        },
        "id": "WJ22d4_IS-uD",
        "outputId": "82c9b740-cf08-4214-ff8f-a66bb7430b42"
      },
      "source": [
        "#Mapeo de susceptibilidad EN BASE A FP Y FN\n",
        "Mapeo = {}\n",
        "for i in range(48,57,1):\n",
        "  i = round(i/100,4)\n",
        "  threshold = round(i,4)\n",
        "  y_pred_3 = predict(MLP_model,X_test_2,threshold= threshold)\n",
        "  conf_mat = [0,0]\n",
        "  conf_mat[0] = confusion_matrix(y_test, y_pred_3)\n",
        "  conf_mat[1] = conf_mat[0].T / np.sum(conf_mat[0], axis = 1)\n",
        "  Mapeo['{}'.format(round(threshold,2))] = (round(conf_mat[1][0][1],2), round(conf_mat[1][1][0],2), round(f1_score(y_test,y_pred_3,average='binary'),2))\n",
        "print('      FN   FP  f1_score')\n",
        "for i in Mapeo:\n",
        "  print('{}:{}'.format(i,Mapeo[i]))"
      ],
      "execution_count": null,
      "outputs": [
        {
          "output_type": "stream",
          "text": [
            "      FN   FP  f1_score\n",
            "0.48:(0.0, 1.0, 0.67)\n",
            "0.49:(0.0, 1.0, 0.67)\n",
            "0.5:(0.06, 0.94, 0.65)\n",
            "0.51:(0.41, 0.57, 0.54)\n",
            "0.52:(0.84, 0.16, 0.24)\n",
            "0.53:(0.96, 0.05, 0.07)\n",
            "0.54:(0.97, 0.04, 0.05)\n",
            "0.55:(0.99, 0.02, 0.01)\n",
            "0.56:(1.0, 0.0, 0.0)\n"
          ],
          "name": "stdout"
        }
      ]
    },
    {
      "cell_type": "markdown",
      "metadata": {
        "id": "UfqC6TWtU-kO"
      },
      "source": [
        "# Optimización hiperparámetros MLP, propuesta"
      ]
    },
    {
      "cell_type": "code",
      "metadata": {
        "id": "zL_L7d5bmZma"
      },
      "source": [
        "def hyperband():\n",
        "   return kt.oracles.Hyperband(\n",
        "    objective=kt.Objective(\"f1_score\", direction=\"max\"),\n",
        "    max_epochs= 20,\n",
        "    factor=2,\n",
        "    hyperband_iterations=1,\n",
        "    seed=None)  \n",
        "\n",
        "def bayesian():\n",
        "   return kt.oracles.BayesianOptimization(\n",
        "    objective=kt.Objective(\"f1_score\", direction=\"max\"),\n",
        "    max_trials=20,\n",
        "    seed = None)\n",
        "\n",
        "def random():\n",
        "   return kt.oracles.RandomSearch(\n",
        "    objective=kt.Objective(\"f1_score\", direction=\"max\"),\n",
        "    max_trials=10,\n",
        "    seed=None,\n",
        "    hyperparameters=None,\n",
        "    allow_new_entries=True,\n",
        "    tune_new_entries=True,)"
      ],
      "execution_count": null,
      "outputs": []
    },
    {
      "cell_type": "code",
      "metadata": {
        "colab": {
          "base_uri": "https://localhost:8080/"
        },
        "id": "rsDMnAuCW1iU",
        "outputId": "9a7a1c9e-466d-4735-d142-7d0f0dfaa087"
      },
      "source": [
        "class CVTuner2(kt.engine.tuner.Tuner):\n",
        "\n",
        "  def run_trial(self, trial, x, y, batch_size=32, epochs=1):\n",
        "    cv = sklearn.model_selection.KFold(5,shuffle = True, random_state = 0)\n",
        "    f1_scores = []\n",
        "    h = 0\n",
        "    for train_indices, test_indices in cv.split(x):\n",
        "        x_train, x_test = x[train_indices], x[test_indices]\n",
        "        y_train, y_test = y[train_indices], y[test_indices]\n",
        "\n",
        "        model = self.hypermodel.build(trial.hyperparameters)\n",
        "\n",
        "        model.fit(x_train, y_train, batch_size=batch_size, epochs=epochs, verbose = 0)\n",
        "        y_pred = model.predict(x_test)\n",
        "        K.clear_session()\n",
        "        y_pred = np.where(y_pred >= 0.5,1,0)\n",
        "        #val_losses.append(model.evaluate(x_test, y_test))\n",
        "        f1 = f1_score(y_test,y_pred,average = 'binary')\n",
        "        f1_scores.append(f1)\n",
        "        print(\"FOLD: {}, : f1_score: {}\".format(h+1,f1))\n",
        "        h+=1\n",
        "\n",
        "    self.oracle.update_trial(trial.trial_id, {'f1_score': np.mean(f1_scores)})\n",
        "    self.save_model(trial.trial_id, model)\n",
        "\n",
        "\n",
        "best_MLP2 = []\n",
        "#with tf.device('cpu:0'):\n",
        "for batch in [16,32,64]:\n",
        "  MLP2_tuner = CVTuner2(\n",
        "  hypermodel=model_builder5,\n",
        "  oracle=random(),\n",
        "    directory='MLP_FINAL_{}'.format(batch+4),\n",
        "    project_name='9'\n",
        "    )\n",
        "  MLP2_tuner.search(X_train_2, y_train, batch_size=batch, epochs=5)\n",
        "  best_MLP2.append(MLP2_tuner.get_best_hyperparameters(num_trials=1))\n"
      ],
      "execution_count": null,
      "outputs": [
        {
          "output_type": "stream",
          "text": [
            "Trial 10 Complete [00h 00m 07s]\n",
            "f1_score: 0.5938722089754247\n",
            "\n",
            "Best f1_score So Far: 0.5966534063232332\n",
            "Total elapsed time: 00h 01m 24s\n",
            "INFO:tensorflow:Oracle triggered exit\n"
          ],
          "name": "stdout"
        }
      ]
    },
    {
      "cell_type": "code",
      "metadata": {
        "id": "39I_tcpoYznE"
      },
      "source": [
        "best_hpsss = []\n",
        "BATCH = [16,32,64]\n",
        "for i,hyperparameters in enumerate(best_MLP2):\n",
        "  folds_top3 = []\n",
        "  for train_indices, test_indices in cv.split(X_train_2):\n",
        "      x_train__, x_val__ = X_train_2[train_indices], X_train_2[test_indices]\n",
        "      y_train__, y_val__ = y_train[train_indices], y_train[test_indices]\n",
        "\n",
        "      model_top3 = MLP2_tuner.hypermodel.build(hyperparameters[0])\n",
        "      history_top3 = model_top3.fit(x_train__, y_train__, validation_data = (x_val__,y_val__),epochs=50,callbacks= [tf.keras.callbacks.EarlyStopping(monitor='val_accuracy', patience=4)],batch_size=BATCH[i], verbose = 0)\n",
        "\n",
        "      y_pred = predict(model_top3,x_val__)\n",
        "      K.clear_session()\n",
        "      f1 = f1_score(y_val__,y_pred,average='binary')\n",
        "      folds_top3.append(f1)\n",
        "  mean = np.mean(folds_top3)\n",
        "  best_hpsss.append((hyperparameters,mean,BATCH[i]))\n",
        "\n",
        "\n",
        "best_hpss4 = sorted(best_hpsss,reverse=True, key=lambda best_hpsss: best_hpsss[1])"
      ],
      "execution_count": null,
      "outputs": []
    },
    {
      "cell_type": "code",
      "metadata": {
        "colab": {
          "base_uri": "https://localhost:8080/"
        },
        "id": "cUbVumTUYznI",
        "outputId": "51a12790-69f4-4e5f-ada5-b944ba7c2e8d"
      },
      "source": [
        "#CROSSVALIDATION PARA LOS 3 BATCHSIZES\n",
        "for i in range(3):\n",
        "  print(best_hpss4[i][0][0].get('Optimizer'),\n",
        "        best_hpss4[i][0][0].get('learning_rate'),\n",
        "        best_hpss4[i][0][0].get('dropout'),\n",
        "        best_hpss4[i][0][0].get('L1'),\n",
        "        best_hpss4[i][0][0].get('L2'),\n",
        "        best_hpss4[i][0][0].get('Neuronas'),\n",
        "        best_hpss4[i][0][0].get('Layers'),\n",
        "        best_hpss3[i][2],\n",
        "        best_hpss3[i][1]\n",
        "\n",
        "  )"
      ],
      "execution_count": null,
      "outputs": [
        {
          "output_type": "stream",
          "text": [
            "Adam 0.001 0.2 0.0 0.0 64 5 16 0.5552404641776031\n",
            "Adam 0.001 0.0 0.001 0.01 64 5 64 0.5546099154851701\n",
            "SGD 0.0001 0.0 0.1 0.001 32 6 32 0.46621857485260376\n"
          ],
          "name": "stdout"
        }
      ]
    },
    {
      "cell_type": "code",
      "metadata": {
        "colab": {
          "base_uri": "https://localhost:8080/"
        },
        "id": "uTXMCuroYznJ",
        "outputId": "2711acc5-b59b-45d0-b89b-60b3944bf253"
      },
      "source": [
        "best_batch3 = best_hpss4[0][2]\n",
        "Final_f1scores_MLP2 = []\n",
        "Model_MLP2_save = []\n",
        "ACC = []\n",
        "VAL_ACC = []\n",
        "\n",
        "\n",
        "cv = sklearn.model_selection.KFold(5,shuffle = True, random_state = 0)\n",
        "for i in range(0,3):\n",
        "\n",
        "  for train_indices, test_indices in cv.split(X_train_2):\n",
        "      x_train__, x_val__ = X_train_2[train_indices], X_train_2[test_indices]\n",
        "      y_train__, y_val__ = y_train[train_indices], y_train[test_indices]\n",
        "      MLP2_model = MLP2_tuner.hypermodel.build(best_hpss4[0][0][0])\n",
        "      history = MLP2_model.fit(x_train__, y_train__, validation_data = (x_val__,y_val__),epochs=50,batch_size=best_batch3,callbacks= [tf.keras.callbacks.EarlyStopping(monitor='val_accuracy', patience=4)], verbose = 0)\n",
        "      Accuracy = history.history['accuracy'][-1]\n",
        "      val_Accuracy = history.history['val_accuracy'][-1]\n",
        "      y_pred = predict(MLP_model,x_val__)\n",
        "      K.clear_session()\n",
        "      f1 = f1_score(y_val__,y_pred,average='binary')\n",
        "      Model_MLP_save.append((f1,Accuracy,val_Accuracy, history,MLP_model,x_val__,y_val__))\n",
        "\n",
        "      ACC.append(Accuracy)\n",
        "      VAL_ACC.append(val_Accuracy)\n",
        "      Final_f1scores_MLP2.append(f1)\n",
        "  \n",
        " \n",
        "\n",
        "F1 = np.array(Final_f1scores_MLP2)\n",
        "ACC = np.array(ACC)\n",
        "VAL_ACC = np.array(VAL_ACC)\n",
        "\n",
        "\n",
        "mean_train_MLP = np.mean(ACC)\n",
        "std_train_MLP = np.std(ACC)\n",
        "mean_val_MLP = np.mean(VAL_ACC)\n",
        "std_val_MLP = np.std(VAL_ACC)\n",
        "mean_f1_MLP = np.mean(F1)\n",
        "std_f1_MLP = np.std(F1)\n",
        "\n",
        "\n",
        "print(mean_train_MLP,std_train_MLP,mean_val_MLP,std_val_MLP)\n",
        "print(mean_f1_MLP,std_f1_MLP)   \n",
        "\n",
        "\n",
        "Model_MLP2_save_sorted = sorted(Model_MLP_save,reverse=True, key=lambda Model_MLP_save: Model_MLP_save[0])\n",
        "Best_model_MLP2_save = Model_MLP_save_sorted[0]"
      ],
      "execution_count": null,
      "outputs": [
        {
          "output_type": "stream",
          "text": [
            "0.5069362799326579 0.013730692569068297 0.5090923527876536 0.026635323798197132\n",
            "0.6617831320936183 0.021772273210579958\n"
          ],
          "name": "stdout"
        }
      ]
    },
    {
      "cell_type": "code",
      "metadata": {
        "colab": {
          "base_uri": "https://localhost:8080/"
        },
        "id": "etQ2HbUHYznJ",
        "outputId": "785e57ce-0494-464b-a506-b283bb654c4a"
      },
      "source": [
        "print(Model_MLP2_save_sorted[0][0])\n",
        "print(Model_MLP2_save_sorted[0][1])\n",
        "print(Model_MLP2_save_sorted[0][2])\n",
        "print(Model_MLP2_save_sorted[0][3])\n",
        "print(Model_MLP2_save_sorted[0][4])\n",
        "print(Model_MLP2_save_sorted[0][5].shape)\n",
        "print(Model_MLP2_save_sorted[0][6].shape)\n"
      ],
      "execution_count": null,
      "outputs": [
        {
          "output_type": "stream",
          "text": [
            "0.6818980667838312\n",
            "0.5215157270431519\n",
            "0.5655527114868164\n",
            "<tensorflow.python.keras.callbacks.History object at 0x7fd498a0ec90>\n",
            "<tensorflow.python.keras.engine.sequential.Sequential object at 0x7fd4b28077d0>\n",
            "(389, 20)\n",
            "(389,)\n"
          ],
          "name": "stdout"
        }
      ]
    },
    {
      "cell_type": "code",
      "metadata": {
        "colab": {
          "base_uri": "https://localhost:8080/",
          "height": 171
        },
        "id": "4zuuH_AnYznJ",
        "outputId": "0b050b45-6fc6-4475-87b7-79077e3b7b74"
      },
      "source": [
        "MLP2_model = Model_MLP2_save_sorted[0][4]\n",
        "history = Model_MLP2_save_sorted[0][3]\n",
        "y_pred_2 =predict(MLP2_model,Model_MLP2_save_sorted[0][5])\n",
        "K.clear_session()\n",
        "plot(history = history)"
      ],
      "execution_count": null,
      "outputs": [
        {
          "output_type": "display_data",
          "data": {
            "image/png": "[encoded data removed]",
            "text/plain": [
              "<Figure size 1008x144 with 2 Axes>"
            ]
          },
          "metadata": {
            "tags": [],
            "needs_background": "light"
          }
        }
      ]
    },
    {
      "cell_type": "markdown",
      "metadata": {
        "id": "lDTrSErAYznK"
      },
      "source": [
        "# f1 score y matriz de confusión MLP propuesta (TEST)"
      ]
    },
    {
      "cell_type": "code",
      "metadata": {
        "colab": {
          "base_uri": "https://localhost:8080/",
          "height": 265
        },
        "id": "vX5I-3-NYznL",
        "outputId": "e282e694-6dda-4e92-d754-589fe36f0978"
      },
      "source": [
        "y_pred_5 = predict(MLP2_model,X_test_2)\n",
        "conf_mat = [0,0]\n",
        "conf_mat[0] = confusion_matrix(y_test, y_pred_3)\n",
        "conf_mat[1] = conf_mat[0].T / np.sum(conf_mat[0], axis = 1)\n",
        "# Podemos usar seaborn para graficar esta matriz\n",
        "sns.heatmap(conf_mat[1].T, annot = True)\n",
        "plt.show()"
      ],
      "execution_count": null,
      "outputs": [
        {
          "output_type": "display_data",
          "data": {
            "image/png": "[encoded data removed]",
            "text/plain": [
              "<Figure size 432x288 with 2 Axes>"
            ]
          },
          "metadata": {
            "tags": [],
            "needs_background": "light"
          }
        }
      ]
    },
    {
      "cell_type": "code",
      "metadata": {
        "colab": {
          "base_uri": "https://localhost:8080/"
        },
        "id": "I1tfCSkHYznL",
        "outputId": "9f518b3d-509a-4f68-9c6d-dd416dea14f9"
      },
      "source": [
        "print(f1_score(y_test, y_pred_5,average='binary'),recall_score(y_test,y_pred_5,average='binary'),precision_score(y_test,y_pred_5,average = 'binary'))"
      ],
      "execution_count": null,
      "outputs": [
        {
          "output_type": "stream",
          "text": [
            "0.6533523537803139 0.9404517453798767 0.5005464480874317\n"
          ],
          "name": "stdout"
        }
      ]
    },
    {
      "cell_type": "code",
      "metadata": {
        "id": "mHt74cfhYznL"
      },
      "source": [
        "a = np.squeeze(MLP2_model.predict(X_test_2))"
      ],
      "execution_count": null,
      "outputs": []
    },
    {
      "cell_type": "code",
      "metadata": {
        "colab": {
          "base_uri": "https://localhost:8080/"
        },
        "id": "2XwQmlv5YznL",
        "outputId": "88e37777-8b36-4f3c-dae1-127ae7eae4e6"
      },
      "source": [
        "b = np.array(a)\n",
        "print(np.max(b),np.min(b),np.std(b))"
      ],
      "execution_count": null,
      "outputs": [
        {
          "output_type": "stream",
          "text": [
            "0.5564996 0.49443504 0.010040729\n"
          ],
          "name": "stdout"
        }
      ]
    },
    {
      "cell_type": "code",
      "metadata": {
        "colab": {
          "base_uri": "https://localhost:8080/",
          "height": 348
        },
        "id": "VfQMg5yFYznM",
        "outputId": "6b8161c6-2c2a-447d-8ead-86cb1f168ff3"
      },
      "source": [
        "plt.hist(b)"
      ],
      "execution_count": null,
      "outputs": [
        {
          "output_type": "execute_result",
          "data": {
            "text/plain": [
              "(array([145., 438., 477., 546., 210.,  51.,  14.,  14.,  27.,  24.]),\n",
              " array([0.49443504, 0.5006415 , 0.506848  , 0.51305443, 0.5192609 ,\n",
              "        0.52546734, 0.5316738 , 0.53788024, 0.5440867 , 0.55029315,\n",
              "        0.5564996 ], dtype=float32),\n",
              " <a list of 10 Patch objects>)"
            ]
          },
          "metadata": {
            "tags": []
          },
          "execution_count": 117
        },
        {
          "output_type": "display_data",
          "data": {
            "image/png": "[encoded data removed]",
            "text/plain": [
              "<Figure size 432x288 with 1 Axes>"
            ]
          },
          "metadata": {
            "tags": [],
            "needs_background": "light"
          }
        }
      ]
    },
    {
      "cell_type": "code",
      "metadata": {
        "id": "MhvEpKjWaiEE"
      },
      "source": [
        ""
      ],
      "execution_count": null,
      "outputs": []
    },
    {
      "cell_type": "code",
      "metadata": {
        "id": "YqJaEbhXl_CG"
      },
      "source": [
        ""
      ],
      "execution_count": null,
      "outputs": []
    },
    {
      "cell_type": "code",
      "metadata": {
        "id": "qVHxB9M4mDVK"
      },
      "source": [
        ""
      ],
      "execution_count": null,
      "outputs": []
    }
  ]
}